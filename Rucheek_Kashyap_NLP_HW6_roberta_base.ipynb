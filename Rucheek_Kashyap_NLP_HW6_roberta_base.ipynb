{
  "nbformat": 4,
  "nbformat_minor": 0,
  "metadata": {
    "colab": {
      "provenance": [],
      "machine_shape": "hm",
      "gpuType": "A100"
    },
    "kernelspec": {
      "name": "python3",
      "display_name": "Python 3"
    },
    "language_info": {
      "name": "python"
    },
    "accelerator": "GPU",
    "widgets": {
      "application/vnd.jupyter.widget-state+json": {
        "aa56d126158c4ce4bbfc9b710d8df906": {
          "model_module": "@jupyter-widgets/controls",
          "model_name": "HBoxModel",
          "model_module_version": "1.5.0",
          "state": {
            "_dom_classes": [],
            "_model_module": "@jupyter-widgets/controls",
            "_model_module_version": "1.5.0",
            "_model_name": "HBoxModel",
            "_view_count": null,
            "_view_module": "@jupyter-widgets/controls",
            "_view_module_version": "1.5.0",
            "_view_name": "HBoxView",
            "box_style": "",
            "children": [
              "IPY_MODEL_88248a85163a4299a2a4179fb852a01d",
              "IPY_MODEL_d7e3270c2bc541c08049c59b9ec29c82",
              "IPY_MODEL_fa3e04f5615745d19513efb6ae9d37c7"
            ],
            "layout": "IPY_MODEL_d98882998e194640b74f07da79d49ae7"
          }
        },
        "88248a85163a4299a2a4179fb852a01d": {
          "model_module": "@jupyter-widgets/controls",
          "model_name": "HTMLModel",
          "model_module_version": "1.5.0",
          "state": {
            "_dom_classes": [],
            "_model_module": "@jupyter-widgets/controls",
            "_model_module_version": "1.5.0",
            "_model_name": "HTMLModel",
            "_view_count": null,
            "_view_module": "@jupyter-widgets/controls",
            "_view_module_version": "1.5.0",
            "_view_name": "HTMLView",
            "description": "",
            "description_tooltip": null,
            "layout": "IPY_MODEL_06df4b96109f4068b4bbae21069fd354",
            "placeholder": "​",
            "style": "IPY_MODEL_efa3c95d6917457f8fc520a38a18abdd",
            "value": "tokenizer_config.json: 100%"
          }
        },
        "d7e3270c2bc541c08049c59b9ec29c82": {
          "model_module": "@jupyter-widgets/controls",
          "model_name": "FloatProgressModel",
          "model_module_version": "1.5.0",
          "state": {
            "_dom_classes": [],
            "_model_module": "@jupyter-widgets/controls",
            "_model_module_version": "1.5.0",
            "_model_name": "FloatProgressModel",
            "_view_count": null,
            "_view_module": "@jupyter-widgets/controls",
            "_view_module_version": "1.5.0",
            "_view_name": "ProgressView",
            "bar_style": "success",
            "description": "",
            "description_tooltip": null,
            "layout": "IPY_MODEL_be26b0d12ee14057b5771cae9b56326d",
            "max": 25,
            "min": 0,
            "orientation": "horizontal",
            "style": "IPY_MODEL_5dd10d75e1b54ec2923ef7ec2ec3e747",
            "value": 25
          }
        },
        "fa3e04f5615745d19513efb6ae9d37c7": {
          "model_module": "@jupyter-widgets/controls",
          "model_name": "HTMLModel",
          "model_module_version": "1.5.0",
          "state": {
            "_dom_classes": [],
            "_model_module": "@jupyter-widgets/controls",
            "_model_module_version": "1.5.0",
            "_model_name": "HTMLModel",
            "_view_count": null,
            "_view_module": "@jupyter-widgets/controls",
            "_view_module_version": "1.5.0",
            "_view_name": "HTMLView",
            "description": "",
            "description_tooltip": null,
            "layout": "IPY_MODEL_e88cc5535ee04f558e4140e9ddf6aff3",
            "placeholder": "​",
            "style": "IPY_MODEL_828e54196d66492bb23376396936b8f2",
            "value": " 25.0/25.0 [00:00&lt;00:00, 1.92kB/s]"
          }
        },
        "d98882998e194640b74f07da79d49ae7": {
          "model_module": "@jupyter-widgets/base",
          "model_name": "LayoutModel",
          "model_module_version": "1.2.0",
          "state": {
            "_model_module": "@jupyter-widgets/base",
            "_model_module_version": "1.2.0",
            "_model_name": "LayoutModel",
            "_view_count": null,
            "_view_module": "@jupyter-widgets/base",
            "_view_module_version": "1.2.0",
            "_view_name": "LayoutView",
            "align_content": null,
            "align_items": null,
            "align_self": null,
            "border": null,
            "bottom": null,
            "display": null,
            "flex": null,
            "flex_flow": null,
            "grid_area": null,
            "grid_auto_columns": null,
            "grid_auto_flow": null,
            "grid_auto_rows": null,
            "grid_column": null,
            "grid_gap": null,
            "grid_row": null,
            "grid_template_areas": null,
            "grid_template_columns": null,
            "grid_template_rows": null,
            "height": null,
            "justify_content": null,
            "justify_items": null,
            "left": null,
            "margin": null,
            "max_height": null,
            "max_width": null,
            "min_height": null,
            "min_width": null,
            "object_fit": null,
            "object_position": null,
            "order": null,
            "overflow": null,
            "overflow_x": null,
            "overflow_y": null,
            "padding": null,
            "right": null,
            "top": null,
            "visibility": null,
            "width": null
          }
        },
        "06df4b96109f4068b4bbae21069fd354": {
          "model_module": "@jupyter-widgets/base",
          "model_name": "LayoutModel",
          "model_module_version": "1.2.0",
          "state": {
            "_model_module": "@jupyter-widgets/base",
            "_model_module_version": "1.2.0",
            "_model_name": "LayoutModel",
            "_view_count": null,
            "_view_module": "@jupyter-widgets/base",
            "_view_module_version": "1.2.0",
            "_view_name": "LayoutView",
            "align_content": null,
            "align_items": null,
            "align_self": null,
            "border": null,
            "bottom": null,
            "display": null,
            "flex": null,
            "flex_flow": null,
            "grid_area": null,
            "grid_auto_columns": null,
            "grid_auto_flow": null,
            "grid_auto_rows": null,
            "grid_column": null,
            "grid_gap": null,
            "grid_row": null,
            "grid_template_areas": null,
            "grid_template_columns": null,
            "grid_template_rows": null,
            "height": null,
            "justify_content": null,
            "justify_items": null,
            "left": null,
            "margin": null,
            "max_height": null,
            "max_width": null,
            "min_height": null,
            "min_width": null,
            "object_fit": null,
            "object_position": null,
            "order": null,
            "overflow": null,
            "overflow_x": null,
            "overflow_y": null,
            "padding": null,
            "right": null,
            "top": null,
            "visibility": null,
            "width": null
          }
        },
        "efa3c95d6917457f8fc520a38a18abdd": {
          "model_module": "@jupyter-widgets/controls",
          "model_name": "DescriptionStyleModel",
          "model_module_version": "1.5.0",
          "state": {
            "_model_module": "@jupyter-widgets/controls",
            "_model_module_version": "1.5.0",
            "_model_name": "DescriptionStyleModel",
            "_view_count": null,
            "_view_module": "@jupyter-widgets/base",
            "_view_module_version": "1.2.0",
            "_view_name": "StyleView",
            "description_width": ""
          }
        },
        "be26b0d12ee14057b5771cae9b56326d": {
          "model_module": "@jupyter-widgets/base",
          "model_name": "LayoutModel",
          "model_module_version": "1.2.0",
          "state": {
            "_model_module": "@jupyter-widgets/base",
            "_model_module_version": "1.2.0",
            "_model_name": "LayoutModel",
            "_view_count": null,
            "_view_module": "@jupyter-widgets/base",
            "_view_module_version": "1.2.0",
            "_view_name": "LayoutView",
            "align_content": null,
            "align_items": null,
            "align_self": null,
            "border": null,
            "bottom": null,
            "display": null,
            "flex": null,
            "flex_flow": null,
            "grid_area": null,
            "grid_auto_columns": null,
            "grid_auto_flow": null,
            "grid_auto_rows": null,
            "grid_column": null,
            "grid_gap": null,
            "grid_row": null,
            "grid_template_areas": null,
            "grid_template_columns": null,
            "grid_template_rows": null,
            "height": null,
            "justify_content": null,
            "justify_items": null,
            "left": null,
            "margin": null,
            "max_height": null,
            "max_width": null,
            "min_height": null,
            "min_width": null,
            "object_fit": null,
            "object_position": null,
            "order": null,
            "overflow": null,
            "overflow_x": null,
            "overflow_y": null,
            "padding": null,
            "right": null,
            "top": null,
            "visibility": null,
            "width": null
          }
        },
        "5dd10d75e1b54ec2923ef7ec2ec3e747": {
          "model_module": "@jupyter-widgets/controls",
          "model_name": "ProgressStyleModel",
          "model_module_version": "1.5.0",
          "state": {
            "_model_module": "@jupyter-widgets/controls",
            "_model_module_version": "1.5.0",
            "_model_name": "ProgressStyleModel",
            "_view_count": null,
            "_view_module": "@jupyter-widgets/base",
            "_view_module_version": "1.2.0",
            "_view_name": "StyleView",
            "bar_color": null,
            "description_width": ""
          }
        },
        "e88cc5535ee04f558e4140e9ddf6aff3": {
          "model_module": "@jupyter-widgets/base",
          "model_name": "LayoutModel",
          "model_module_version": "1.2.0",
          "state": {
            "_model_module": "@jupyter-widgets/base",
            "_model_module_version": "1.2.0",
            "_model_name": "LayoutModel",
            "_view_count": null,
            "_view_module": "@jupyter-widgets/base",
            "_view_module_version": "1.2.0",
            "_view_name": "LayoutView",
            "align_content": null,
            "align_items": null,
            "align_self": null,
            "border": null,
            "bottom": null,
            "display": null,
            "flex": null,
            "flex_flow": null,
            "grid_area": null,
            "grid_auto_columns": null,
            "grid_auto_flow": null,
            "grid_auto_rows": null,
            "grid_column": null,
            "grid_gap": null,
            "grid_row": null,
            "grid_template_areas": null,
            "grid_template_columns": null,
            "grid_template_rows": null,
            "height": null,
            "justify_content": null,
            "justify_items": null,
            "left": null,
            "margin": null,
            "max_height": null,
            "max_width": null,
            "min_height": null,
            "min_width": null,
            "object_fit": null,
            "object_position": null,
            "order": null,
            "overflow": null,
            "overflow_x": null,
            "overflow_y": null,
            "padding": null,
            "right": null,
            "top": null,
            "visibility": null,
            "width": null
          }
        },
        "828e54196d66492bb23376396936b8f2": {
          "model_module": "@jupyter-widgets/controls",
          "model_name": "DescriptionStyleModel",
          "model_module_version": "1.5.0",
          "state": {
            "_model_module": "@jupyter-widgets/controls",
            "_model_module_version": "1.5.0",
            "_model_name": "DescriptionStyleModel",
            "_view_count": null,
            "_view_module": "@jupyter-widgets/base",
            "_view_module_version": "1.2.0",
            "_view_name": "StyleView",
            "description_width": ""
          }
        },
        "1527f9bba88d41abb8b073daa9dbef94": {
          "model_module": "@jupyter-widgets/controls",
          "model_name": "HBoxModel",
          "model_module_version": "1.5.0",
          "state": {
            "_dom_classes": [],
            "_model_module": "@jupyter-widgets/controls",
            "_model_module_version": "1.5.0",
            "_model_name": "HBoxModel",
            "_view_count": null,
            "_view_module": "@jupyter-widgets/controls",
            "_view_module_version": "1.5.0",
            "_view_name": "HBoxView",
            "box_style": "",
            "children": [
              "IPY_MODEL_972643dfa2824d9e86173568fb934978",
              "IPY_MODEL_2f74f0ceb40a458d8ae7f7a8369a8093",
              "IPY_MODEL_3cf808507cd54c3ab1e382edefc692e7"
            ],
            "layout": "IPY_MODEL_ff078161d8ac453d8d3140d562652b39"
          }
        },
        "972643dfa2824d9e86173568fb934978": {
          "model_module": "@jupyter-widgets/controls",
          "model_name": "HTMLModel",
          "model_module_version": "1.5.0",
          "state": {
            "_dom_classes": [],
            "_model_module": "@jupyter-widgets/controls",
            "_model_module_version": "1.5.0",
            "_model_name": "HTMLModel",
            "_view_count": null,
            "_view_module": "@jupyter-widgets/controls",
            "_view_module_version": "1.5.0",
            "_view_name": "HTMLView",
            "description": "",
            "description_tooltip": null,
            "layout": "IPY_MODEL_d4e4b66019c045aaa777a93d0918cd4e",
            "placeholder": "​",
            "style": "IPY_MODEL_f9c88c3015ae499aac26eb2df96c656a",
            "value": "vocab.json: 100%"
          }
        },
        "2f74f0ceb40a458d8ae7f7a8369a8093": {
          "model_module": "@jupyter-widgets/controls",
          "model_name": "FloatProgressModel",
          "model_module_version": "1.5.0",
          "state": {
            "_dom_classes": [],
            "_model_module": "@jupyter-widgets/controls",
            "_model_module_version": "1.5.0",
            "_model_name": "FloatProgressModel",
            "_view_count": null,
            "_view_module": "@jupyter-widgets/controls",
            "_view_module_version": "1.5.0",
            "_view_name": "ProgressView",
            "bar_style": "success",
            "description": "",
            "description_tooltip": null,
            "layout": "IPY_MODEL_8feb8a39acb24280b6d2a207fd5b3d04",
            "max": 898823,
            "min": 0,
            "orientation": "horizontal",
            "style": "IPY_MODEL_b390b538fe164fe0a5e0ef0dd80b757d",
            "value": 898823
          }
        },
        "3cf808507cd54c3ab1e382edefc692e7": {
          "model_module": "@jupyter-widgets/controls",
          "model_name": "HTMLModel",
          "model_module_version": "1.5.0",
          "state": {
            "_dom_classes": [],
            "_model_module": "@jupyter-widgets/controls",
            "_model_module_version": "1.5.0",
            "_model_name": "HTMLModel",
            "_view_count": null,
            "_view_module": "@jupyter-widgets/controls",
            "_view_module_version": "1.5.0",
            "_view_name": "HTMLView",
            "description": "",
            "description_tooltip": null,
            "layout": "IPY_MODEL_33011f710e7f4003b659e1c25ae9431a",
            "placeholder": "​",
            "style": "IPY_MODEL_66a702fa6bae4a8aa3b807b85c5ae973",
            "value": " 899k/899k [00:00&lt;00:00, 9.62MB/s]"
          }
        },
        "ff078161d8ac453d8d3140d562652b39": {
          "model_module": "@jupyter-widgets/base",
          "model_name": "LayoutModel",
          "model_module_version": "1.2.0",
          "state": {
            "_model_module": "@jupyter-widgets/base",
            "_model_module_version": "1.2.0",
            "_model_name": "LayoutModel",
            "_view_count": null,
            "_view_module": "@jupyter-widgets/base",
            "_view_module_version": "1.2.0",
            "_view_name": "LayoutView",
            "align_content": null,
            "align_items": null,
            "align_self": null,
            "border": null,
            "bottom": null,
            "display": null,
            "flex": null,
            "flex_flow": null,
            "grid_area": null,
            "grid_auto_columns": null,
            "grid_auto_flow": null,
            "grid_auto_rows": null,
            "grid_column": null,
            "grid_gap": null,
            "grid_row": null,
            "grid_template_areas": null,
            "grid_template_columns": null,
            "grid_template_rows": null,
            "height": null,
            "justify_content": null,
            "justify_items": null,
            "left": null,
            "margin": null,
            "max_height": null,
            "max_width": null,
            "min_height": null,
            "min_width": null,
            "object_fit": null,
            "object_position": null,
            "order": null,
            "overflow": null,
            "overflow_x": null,
            "overflow_y": null,
            "padding": null,
            "right": null,
            "top": null,
            "visibility": null,
            "width": null
          }
        },
        "d4e4b66019c045aaa777a93d0918cd4e": {
          "model_module": "@jupyter-widgets/base",
          "model_name": "LayoutModel",
          "model_module_version": "1.2.0",
          "state": {
            "_model_module": "@jupyter-widgets/base",
            "_model_module_version": "1.2.0",
            "_model_name": "LayoutModel",
            "_view_count": null,
            "_view_module": "@jupyter-widgets/base",
            "_view_module_version": "1.2.0",
            "_view_name": "LayoutView",
            "align_content": null,
            "align_items": null,
            "align_self": null,
            "border": null,
            "bottom": null,
            "display": null,
            "flex": null,
            "flex_flow": null,
            "grid_area": null,
            "grid_auto_columns": null,
            "grid_auto_flow": null,
            "grid_auto_rows": null,
            "grid_column": null,
            "grid_gap": null,
            "grid_row": null,
            "grid_template_areas": null,
            "grid_template_columns": null,
            "grid_template_rows": null,
            "height": null,
            "justify_content": null,
            "justify_items": null,
            "left": null,
            "margin": null,
            "max_height": null,
            "max_width": null,
            "min_height": null,
            "min_width": null,
            "object_fit": null,
            "object_position": null,
            "order": null,
            "overflow": null,
            "overflow_x": null,
            "overflow_y": null,
            "padding": null,
            "right": null,
            "top": null,
            "visibility": null,
            "width": null
          }
        },
        "f9c88c3015ae499aac26eb2df96c656a": {
          "model_module": "@jupyter-widgets/controls",
          "model_name": "DescriptionStyleModel",
          "model_module_version": "1.5.0",
          "state": {
            "_model_module": "@jupyter-widgets/controls",
            "_model_module_version": "1.5.0",
            "_model_name": "DescriptionStyleModel",
            "_view_count": null,
            "_view_module": "@jupyter-widgets/base",
            "_view_module_version": "1.2.0",
            "_view_name": "StyleView",
            "description_width": ""
          }
        },
        "8feb8a39acb24280b6d2a207fd5b3d04": {
          "model_module": "@jupyter-widgets/base",
          "model_name": "LayoutModel",
          "model_module_version": "1.2.0",
          "state": {
            "_model_module": "@jupyter-widgets/base",
            "_model_module_version": "1.2.0",
            "_model_name": "LayoutModel",
            "_view_count": null,
            "_view_module": "@jupyter-widgets/base",
            "_view_module_version": "1.2.0",
            "_view_name": "LayoutView",
            "align_content": null,
            "align_items": null,
            "align_self": null,
            "border": null,
            "bottom": null,
            "display": null,
            "flex": null,
            "flex_flow": null,
            "grid_area": null,
            "grid_auto_columns": null,
            "grid_auto_flow": null,
            "grid_auto_rows": null,
            "grid_column": null,
            "grid_gap": null,
            "grid_row": null,
            "grid_template_areas": null,
            "grid_template_columns": null,
            "grid_template_rows": null,
            "height": null,
            "justify_content": null,
            "justify_items": null,
            "left": null,
            "margin": null,
            "max_height": null,
            "max_width": null,
            "min_height": null,
            "min_width": null,
            "object_fit": null,
            "object_position": null,
            "order": null,
            "overflow": null,
            "overflow_x": null,
            "overflow_y": null,
            "padding": null,
            "right": null,
            "top": null,
            "visibility": null,
            "width": null
          }
        },
        "b390b538fe164fe0a5e0ef0dd80b757d": {
          "model_module": "@jupyter-widgets/controls",
          "model_name": "ProgressStyleModel",
          "model_module_version": "1.5.0",
          "state": {
            "_model_module": "@jupyter-widgets/controls",
            "_model_module_version": "1.5.0",
            "_model_name": "ProgressStyleModel",
            "_view_count": null,
            "_view_module": "@jupyter-widgets/base",
            "_view_module_version": "1.2.0",
            "_view_name": "StyleView",
            "bar_color": null,
            "description_width": ""
          }
        },
        "33011f710e7f4003b659e1c25ae9431a": {
          "model_module": "@jupyter-widgets/base",
          "model_name": "LayoutModel",
          "model_module_version": "1.2.0",
          "state": {
            "_model_module": "@jupyter-widgets/base",
            "_model_module_version": "1.2.0",
            "_model_name": "LayoutModel",
            "_view_count": null,
            "_view_module": "@jupyter-widgets/base",
            "_view_module_version": "1.2.0",
            "_view_name": "LayoutView",
            "align_content": null,
            "align_items": null,
            "align_self": null,
            "border": null,
            "bottom": null,
            "display": null,
            "flex": null,
            "flex_flow": null,
            "grid_area": null,
            "grid_auto_columns": null,
            "grid_auto_flow": null,
            "grid_auto_rows": null,
            "grid_column": null,
            "grid_gap": null,
            "grid_row": null,
            "grid_template_areas": null,
            "grid_template_columns": null,
            "grid_template_rows": null,
            "height": null,
            "justify_content": null,
            "justify_items": null,
            "left": null,
            "margin": null,
            "max_height": null,
            "max_width": null,
            "min_height": null,
            "min_width": null,
            "object_fit": null,
            "object_position": null,
            "order": null,
            "overflow": null,
            "overflow_x": null,
            "overflow_y": null,
            "padding": null,
            "right": null,
            "top": null,
            "visibility": null,
            "width": null
          }
        },
        "66a702fa6bae4a8aa3b807b85c5ae973": {
          "model_module": "@jupyter-widgets/controls",
          "model_name": "DescriptionStyleModel",
          "model_module_version": "1.5.0",
          "state": {
            "_model_module": "@jupyter-widgets/controls",
            "_model_module_version": "1.5.0",
            "_model_name": "DescriptionStyleModel",
            "_view_count": null,
            "_view_module": "@jupyter-widgets/base",
            "_view_module_version": "1.2.0",
            "_view_name": "StyleView",
            "description_width": ""
          }
        },
        "0ededcf76fdb4385a5cfd1ef0003b9b6": {
          "model_module": "@jupyter-widgets/controls",
          "model_name": "HBoxModel",
          "model_module_version": "1.5.0",
          "state": {
            "_dom_classes": [],
            "_model_module": "@jupyter-widgets/controls",
            "_model_module_version": "1.5.0",
            "_model_name": "HBoxModel",
            "_view_count": null,
            "_view_module": "@jupyter-widgets/controls",
            "_view_module_version": "1.5.0",
            "_view_name": "HBoxView",
            "box_style": "",
            "children": [
              "IPY_MODEL_00202162514a4ab5944d0e910e5927fe",
              "IPY_MODEL_3f547c77075842fb9f8d043b6345994e",
              "IPY_MODEL_2c6d51b3b52249b38f008886a7d6a719"
            ],
            "layout": "IPY_MODEL_9067d55cc49f4bf2910c49861429c142"
          }
        },
        "00202162514a4ab5944d0e910e5927fe": {
          "model_module": "@jupyter-widgets/controls",
          "model_name": "HTMLModel",
          "model_module_version": "1.5.0",
          "state": {
            "_dom_classes": [],
            "_model_module": "@jupyter-widgets/controls",
            "_model_module_version": "1.5.0",
            "_model_name": "HTMLModel",
            "_view_count": null,
            "_view_module": "@jupyter-widgets/controls",
            "_view_module_version": "1.5.0",
            "_view_name": "HTMLView",
            "description": "",
            "description_tooltip": null,
            "layout": "IPY_MODEL_3d4714a81f1a40df83c0756daffcc20f",
            "placeholder": "​",
            "style": "IPY_MODEL_fe5b69c1896449a792688bcc88ecb9ef",
            "value": "merges.txt: 100%"
          }
        },
        "3f547c77075842fb9f8d043b6345994e": {
          "model_module": "@jupyter-widgets/controls",
          "model_name": "FloatProgressModel",
          "model_module_version": "1.5.0",
          "state": {
            "_dom_classes": [],
            "_model_module": "@jupyter-widgets/controls",
            "_model_module_version": "1.5.0",
            "_model_name": "FloatProgressModel",
            "_view_count": null,
            "_view_module": "@jupyter-widgets/controls",
            "_view_module_version": "1.5.0",
            "_view_name": "ProgressView",
            "bar_style": "success",
            "description": "",
            "description_tooltip": null,
            "layout": "IPY_MODEL_39ee673ffc0447b8a9a8b21f9b5ecedd",
            "max": 456318,
            "min": 0,
            "orientation": "horizontal",
            "style": "IPY_MODEL_421eee8e306747d1b988a1416f48c5f5",
            "value": 456318
          }
        },
        "2c6d51b3b52249b38f008886a7d6a719": {
          "model_module": "@jupyter-widgets/controls",
          "model_name": "HTMLModel",
          "model_module_version": "1.5.0",
          "state": {
            "_dom_classes": [],
            "_model_module": "@jupyter-widgets/controls",
            "_model_module_version": "1.5.0",
            "_model_name": "HTMLModel",
            "_view_count": null,
            "_view_module": "@jupyter-widgets/controls",
            "_view_module_version": "1.5.0",
            "_view_name": "HTMLView",
            "description": "",
            "description_tooltip": null,
            "layout": "IPY_MODEL_0569cf3bde5642a5ad49450ce379e5f0",
            "placeholder": "​",
            "style": "IPY_MODEL_7f44c49869cf449f9b4bca6b33e63c5f",
            "value": " 456k/456k [00:00&lt;00:00, 19.4MB/s]"
          }
        },
        "9067d55cc49f4bf2910c49861429c142": {
          "model_module": "@jupyter-widgets/base",
          "model_name": "LayoutModel",
          "model_module_version": "1.2.0",
          "state": {
            "_model_module": "@jupyter-widgets/base",
            "_model_module_version": "1.2.0",
            "_model_name": "LayoutModel",
            "_view_count": null,
            "_view_module": "@jupyter-widgets/base",
            "_view_module_version": "1.2.0",
            "_view_name": "LayoutView",
            "align_content": null,
            "align_items": null,
            "align_self": null,
            "border": null,
            "bottom": null,
            "display": null,
            "flex": null,
            "flex_flow": null,
            "grid_area": null,
            "grid_auto_columns": null,
            "grid_auto_flow": null,
            "grid_auto_rows": null,
            "grid_column": null,
            "grid_gap": null,
            "grid_row": null,
            "grid_template_areas": null,
            "grid_template_columns": null,
            "grid_template_rows": null,
            "height": null,
            "justify_content": null,
            "justify_items": null,
            "left": null,
            "margin": null,
            "max_height": null,
            "max_width": null,
            "min_height": null,
            "min_width": null,
            "object_fit": null,
            "object_position": null,
            "order": null,
            "overflow": null,
            "overflow_x": null,
            "overflow_y": null,
            "padding": null,
            "right": null,
            "top": null,
            "visibility": null,
            "width": null
          }
        },
        "3d4714a81f1a40df83c0756daffcc20f": {
          "model_module": "@jupyter-widgets/base",
          "model_name": "LayoutModel",
          "model_module_version": "1.2.0",
          "state": {
            "_model_module": "@jupyter-widgets/base",
            "_model_module_version": "1.2.0",
            "_model_name": "LayoutModel",
            "_view_count": null,
            "_view_module": "@jupyter-widgets/base",
            "_view_module_version": "1.2.0",
            "_view_name": "LayoutView",
            "align_content": null,
            "align_items": null,
            "align_self": null,
            "border": null,
            "bottom": null,
            "display": null,
            "flex": null,
            "flex_flow": null,
            "grid_area": null,
            "grid_auto_columns": null,
            "grid_auto_flow": null,
            "grid_auto_rows": null,
            "grid_column": null,
            "grid_gap": null,
            "grid_row": null,
            "grid_template_areas": null,
            "grid_template_columns": null,
            "grid_template_rows": null,
            "height": null,
            "justify_content": null,
            "justify_items": null,
            "left": null,
            "margin": null,
            "max_height": null,
            "max_width": null,
            "min_height": null,
            "min_width": null,
            "object_fit": null,
            "object_position": null,
            "order": null,
            "overflow": null,
            "overflow_x": null,
            "overflow_y": null,
            "padding": null,
            "right": null,
            "top": null,
            "visibility": null,
            "width": null
          }
        },
        "fe5b69c1896449a792688bcc88ecb9ef": {
          "model_module": "@jupyter-widgets/controls",
          "model_name": "DescriptionStyleModel",
          "model_module_version": "1.5.0",
          "state": {
            "_model_module": "@jupyter-widgets/controls",
            "_model_module_version": "1.5.0",
            "_model_name": "DescriptionStyleModel",
            "_view_count": null,
            "_view_module": "@jupyter-widgets/base",
            "_view_module_version": "1.2.0",
            "_view_name": "StyleView",
            "description_width": ""
          }
        },
        "39ee673ffc0447b8a9a8b21f9b5ecedd": {
          "model_module": "@jupyter-widgets/base",
          "model_name": "LayoutModel",
          "model_module_version": "1.2.0",
          "state": {
            "_model_module": "@jupyter-widgets/base",
            "_model_module_version": "1.2.0",
            "_model_name": "LayoutModel",
            "_view_count": null,
            "_view_module": "@jupyter-widgets/base",
            "_view_module_version": "1.2.0",
            "_view_name": "LayoutView",
            "align_content": null,
            "align_items": null,
            "align_self": null,
            "border": null,
            "bottom": null,
            "display": null,
            "flex": null,
            "flex_flow": null,
            "grid_area": null,
            "grid_auto_columns": null,
            "grid_auto_flow": null,
            "grid_auto_rows": null,
            "grid_column": null,
            "grid_gap": null,
            "grid_row": null,
            "grid_template_areas": null,
            "grid_template_columns": null,
            "grid_template_rows": null,
            "height": null,
            "justify_content": null,
            "justify_items": null,
            "left": null,
            "margin": null,
            "max_height": null,
            "max_width": null,
            "min_height": null,
            "min_width": null,
            "object_fit": null,
            "object_position": null,
            "order": null,
            "overflow": null,
            "overflow_x": null,
            "overflow_y": null,
            "padding": null,
            "right": null,
            "top": null,
            "visibility": null,
            "width": null
          }
        },
        "421eee8e306747d1b988a1416f48c5f5": {
          "model_module": "@jupyter-widgets/controls",
          "model_name": "ProgressStyleModel",
          "model_module_version": "1.5.0",
          "state": {
            "_model_module": "@jupyter-widgets/controls",
            "_model_module_version": "1.5.0",
            "_model_name": "ProgressStyleModel",
            "_view_count": null,
            "_view_module": "@jupyter-widgets/base",
            "_view_module_version": "1.2.0",
            "_view_name": "StyleView",
            "bar_color": null,
            "description_width": ""
          }
        },
        "0569cf3bde5642a5ad49450ce379e5f0": {
          "model_module": "@jupyter-widgets/base",
          "model_name": "LayoutModel",
          "model_module_version": "1.2.0",
          "state": {
            "_model_module": "@jupyter-widgets/base",
            "_model_module_version": "1.2.0",
            "_model_name": "LayoutModel",
            "_view_count": null,
            "_view_module": "@jupyter-widgets/base",
            "_view_module_version": "1.2.0",
            "_view_name": "LayoutView",
            "align_content": null,
            "align_items": null,
            "align_self": null,
            "border": null,
            "bottom": null,
            "display": null,
            "flex": null,
            "flex_flow": null,
            "grid_area": null,
            "grid_auto_columns": null,
            "grid_auto_flow": null,
            "grid_auto_rows": null,
            "grid_column": null,
            "grid_gap": null,
            "grid_row": null,
            "grid_template_areas": null,
            "grid_template_columns": null,
            "grid_template_rows": null,
            "height": null,
            "justify_content": null,
            "justify_items": null,
            "left": null,
            "margin": null,
            "max_height": null,
            "max_width": null,
            "min_height": null,
            "min_width": null,
            "object_fit": null,
            "object_position": null,
            "order": null,
            "overflow": null,
            "overflow_x": null,
            "overflow_y": null,
            "padding": null,
            "right": null,
            "top": null,
            "visibility": null,
            "width": null
          }
        },
        "7f44c49869cf449f9b4bca6b33e63c5f": {
          "model_module": "@jupyter-widgets/controls",
          "model_name": "DescriptionStyleModel",
          "model_module_version": "1.5.0",
          "state": {
            "_model_module": "@jupyter-widgets/controls",
            "_model_module_version": "1.5.0",
            "_model_name": "DescriptionStyleModel",
            "_view_count": null,
            "_view_module": "@jupyter-widgets/base",
            "_view_module_version": "1.2.0",
            "_view_name": "StyleView",
            "description_width": ""
          }
        },
        "4306a042fb424da980797870533a1932": {
          "model_module": "@jupyter-widgets/controls",
          "model_name": "HBoxModel",
          "model_module_version": "1.5.0",
          "state": {
            "_dom_classes": [],
            "_model_module": "@jupyter-widgets/controls",
            "_model_module_version": "1.5.0",
            "_model_name": "HBoxModel",
            "_view_count": null,
            "_view_module": "@jupyter-widgets/controls",
            "_view_module_version": "1.5.0",
            "_view_name": "HBoxView",
            "box_style": "",
            "children": [
              "IPY_MODEL_2c564b3e19974434a126d819b2138faf",
              "IPY_MODEL_85831dc2e0d84825834ecfa71ac27c78",
              "IPY_MODEL_5e501134e9404058a005873aef5b2bb7"
            ],
            "layout": "IPY_MODEL_caf6a5bf706b46edb4539d75c91e7bb1"
          }
        },
        "2c564b3e19974434a126d819b2138faf": {
          "model_module": "@jupyter-widgets/controls",
          "model_name": "HTMLModel",
          "model_module_version": "1.5.0",
          "state": {
            "_dom_classes": [],
            "_model_module": "@jupyter-widgets/controls",
            "_model_module_version": "1.5.0",
            "_model_name": "HTMLModel",
            "_view_count": null,
            "_view_module": "@jupyter-widgets/controls",
            "_view_module_version": "1.5.0",
            "_view_name": "HTMLView",
            "description": "",
            "description_tooltip": null,
            "layout": "IPY_MODEL_e9389dd15a9947de90f258baa151a463",
            "placeholder": "​",
            "style": "IPY_MODEL_e204d08825954285b689f485d5b87328",
            "value": "tokenizer.json: 100%"
          }
        },
        "85831dc2e0d84825834ecfa71ac27c78": {
          "model_module": "@jupyter-widgets/controls",
          "model_name": "FloatProgressModel",
          "model_module_version": "1.5.0",
          "state": {
            "_dom_classes": [],
            "_model_module": "@jupyter-widgets/controls",
            "_model_module_version": "1.5.0",
            "_model_name": "FloatProgressModel",
            "_view_count": null,
            "_view_module": "@jupyter-widgets/controls",
            "_view_module_version": "1.5.0",
            "_view_name": "ProgressView",
            "bar_style": "success",
            "description": "",
            "description_tooltip": null,
            "layout": "IPY_MODEL_b67d9afc3e8d4ef7b56b7283cf7e1b57",
            "max": 1355863,
            "min": 0,
            "orientation": "horizontal",
            "style": "IPY_MODEL_92aa9afd45704c838414ad75fd8aa20d",
            "value": 1355863
          }
        },
        "5e501134e9404058a005873aef5b2bb7": {
          "model_module": "@jupyter-widgets/controls",
          "model_name": "HTMLModel",
          "model_module_version": "1.5.0",
          "state": {
            "_dom_classes": [],
            "_model_module": "@jupyter-widgets/controls",
            "_model_module_version": "1.5.0",
            "_model_name": "HTMLModel",
            "_view_count": null,
            "_view_module": "@jupyter-widgets/controls",
            "_view_module_version": "1.5.0",
            "_view_name": "HTMLView",
            "description": "",
            "description_tooltip": null,
            "layout": "IPY_MODEL_ea45b9efc8954917b71f70b557adde7f",
            "placeholder": "​",
            "style": "IPY_MODEL_c695b6857f35430aae941a1167b8832b",
            "value": " 1.36M/1.36M [00:00&lt;00:00, 21.6MB/s]"
          }
        },
        "caf6a5bf706b46edb4539d75c91e7bb1": {
          "model_module": "@jupyter-widgets/base",
          "model_name": "LayoutModel",
          "model_module_version": "1.2.0",
          "state": {
            "_model_module": "@jupyter-widgets/base",
            "_model_module_version": "1.2.0",
            "_model_name": "LayoutModel",
            "_view_count": null,
            "_view_module": "@jupyter-widgets/base",
            "_view_module_version": "1.2.0",
            "_view_name": "LayoutView",
            "align_content": null,
            "align_items": null,
            "align_self": null,
            "border": null,
            "bottom": null,
            "display": null,
            "flex": null,
            "flex_flow": null,
            "grid_area": null,
            "grid_auto_columns": null,
            "grid_auto_flow": null,
            "grid_auto_rows": null,
            "grid_column": null,
            "grid_gap": null,
            "grid_row": null,
            "grid_template_areas": null,
            "grid_template_columns": null,
            "grid_template_rows": null,
            "height": null,
            "justify_content": null,
            "justify_items": null,
            "left": null,
            "margin": null,
            "max_height": null,
            "max_width": null,
            "min_height": null,
            "min_width": null,
            "object_fit": null,
            "object_position": null,
            "order": null,
            "overflow": null,
            "overflow_x": null,
            "overflow_y": null,
            "padding": null,
            "right": null,
            "top": null,
            "visibility": null,
            "width": null
          }
        },
        "e9389dd15a9947de90f258baa151a463": {
          "model_module": "@jupyter-widgets/base",
          "model_name": "LayoutModel",
          "model_module_version": "1.2.0",
          "state": {
            "_model_module": "@jupyter-widgets/base",
            "_model_module_version": "1.2.0",
            "_model_name": "LayoutModel",
            "_view_count": null,
            "_view_module": "@jupyter-widgets/base",
            "_view_module_version": "1.2.0",
            "_view_name": "LayoutView",
            "align_content": null,
            "align_items": null,
            "align_self": null,
            "border": null,
            "bottom": null,
            "display": null,
            "flex": null,
            "flex_flow": null,
            "grid_area": null,
            "grid_auto_columns": null,
            "grid_auto_flow": null,
            "grid_auto_rows": null,
            "grid_column": null,
            "grid_gap": null,
            "grid_row": null,
            "grid_template_areas": null,
            "grid_template_columns": null,
            "grid_template_rows": null,
            "height": null,
            "justify_content": null,
            "justify_items": null,
            "left": null,
            "margin": null,
            "max_height": null,
            "max_width": null,
            "min_height": null,
            "min_width": null,
            "object_fit": null,
            "object_position": null,
            "order": null,
            "overflow": null,
            "overflow_x": null,
            "overflow_y": null,
            "padding": null,
            "right": null,
            "top": null,
            "visibility": null,
            "width": null
          }
        },
        "e204d08825954285b689f485d5b87328": {
          "model_module": "@jupyter-widgets/controls",
          "model_name": "DescriptionStyleModel",
          "model_module_version": "1.5.0",
          "state": {
            "_model_module": "@jupyter-widgets/controls",
            "_model_module_version": "1.5.0",
            "_model_name": "DescriptionStyleModel",
            "_view_count": null,
            "_view_module": "@jupyter-widgets/base",
            "_view_module_version": "1.2.0",
            "_view_name": "StyleView",
            "description_width": ""
          }
        },
        "b67d9afc3e8d4ef7b56b7283cf7e1b57": {
          "model_module": "@jupyter-widgets/base",
          "model_name": "LayoutModel",
          "model_module_version": "1.2.0",
          "state": {
            "_model_module": "@jupyter-widgets/base",
            "_model_module_version": "1.2.0",
            "_model_name": "LayoutModel",
            "_view_count": null,
            "_view_module": "@jupyter-widgets/base",
            "_view_module_version": "1.2.0",
            "_view_name": "LayoutView",
            "align_content": null,
            "align_items": null,
            "align_self": null,
            "border": null,
            "bottom": null,
            "display": null,
            "flex": null,
            "flex_flow": null,
            "grid_area": null,
            "grid_auto_columns": null,
            "grid_auto_flow": null,
            "grid_auto_rows": null,
            "grid_column": null,
            "grid_gap": null,
            "grid_row": null,
            "grid_template_areas": null,
            "grid_template_columns": null,
            "grid_template_rows": null,
            "height": null,
            "justify_content": null,
            "justify_items": null,
            "left": null,
            "margin": null,
            "max_height": null,
            "max_width": null,
            "min_height": null,
            "min_width": null,
            "object_fit": null,
            "object_position": null,
            "order": null,
            "overflow": null,
            "overflow_x": null,
            "overflow_y": null,
            "padding": null,
            "right": null,
            "top": null,
            "visibility": null,
            "width": null
          }
        },
        "92aa9afd45704c838414ad75fd8aa20d": {
          "model_module": "@jupyter-widgets/controls",
          "model_name": "ProgressStyleModel",
          "model_module_version": "1.5.0",
          "state": {
            "_model_module": "@jupyter-widgets/controls",
            "_model_module_version": "1.5.0",
            "_model_name": "ProgressStyleModel",
            "_view_count": null,
            "_view_module": "@jupyter-widgets/base",
            "_view_module_version": "1.2.0",
            "_view_name": "StyleView",
            "bar_color": null,
            "description_width": ""
          }
        },
        "ea45b9efc8954917b71f70b557adde7f": {
          "model_module": "@jupyter-widgets/base",
          "model_name": "LayoutModel",
          "model_module_version": "1.2.0",
          "state": {
            "_model_module": "@jupyter-widgets/base",
            "_model_module_version": "1.2.0",
            "_model_name": "LayoutModel",
            "_view_count": null,
            "_view_module": "@jupyter-widgets/base",
            "_view_module_version": "1.2.0",
            "_view_name": "LayoutView",
            "align_content": null,
            "align_items": null,
            "align_self": null,
            "border": null,
            "bottom": null,
            "display": null,
            "flex": null,
            "flex_flow": null,
            "grid_area": null,
            "grid_auto_columns": null,
            "grid_auto_flow": null,
            "grid_auto_rows": null,
            "grid_column": null,
            "grid_gap": null,
            "grid_row": null,
            "grid_template_areas": null,
            "grid_template_columns": null,
            "grid_template_rows": null,
            "height": null,
            "justify_content": null,
            "justify_items": null,
            "left": null,
            "margin": null,
            "max_height": null,
            "max_width": null,
            "min_height": null,
            "min_width": null,
            "object_fit": null,
            "object_position": null,
            "order": null,
            "overflow": null,
            "overflow_x": null,
            "overflow_y": null,
            "padding": null,
            "right": null,
            "top": null,
            "visibility": null,
            "width": null
          }
        },
        "c695b6857f35430aae941a1167b8832b": {
          "model_module": "@jupyter-widgets/controls",
          "model_name": "DescriptionStyleModel",
          "model_module_version": "1.5.0",
          "state": {
            "_model_module": "@jupyter-widgets/controls",
            "_model_module_version": "1.5.0",
            "_model_name": "DescriptionStyleModel",
            "_view_count": null,
            "_view_module": "@jupyter-widgets/base",
            "_view_module_version": "1.2.0",
            "_view_name": "StyleView",
            "description_width": ""
          }
        },
        "92330a9b6b094dca8278f95214968650": {
          "model_module": "@jupyter-widgets/controls",
          "model_name": "HBoxModel",
          "model_module_version": "1.5.0",
          "state": {
            "_dom_classes": [],
            "_model_module": "@jupyter-widgets/controls",
            "_model_module_version": "1.5.0",
            "_model_name": "HBoxModel",
            "_view_count": null,
            "_view_module": "@jupyter-widgets/controls",
            "_view_module_version": "1.5.0",
            "_view_name": "HBoxView",
            "box_style": "",
            "children": [
              "IPY_MODEL_8b24970380254d9186c4093095ae0b5f",
              "IPY_MODEL_89102c4283504bd2b9252699935a0e6c",
              "IPY_MODEL_d6ec2b567586493a8e576294a731c566"
            ],
            "layout": "IPY_MODEL_cc755734a58f4e40a429bd31ebdaa30c"
          }
        },
        "8b24970380254d9186c4093095ae0b5f": {
          "model_module": "@jupyter-widgets/controls",
          "model_name": "HTMLModel",
          "model_module_version": "1.5.0",
          "state": {
            "_dom_classes": [],
            "_model_module": "@jupyter-widgets/controls",
            "_model_module_version": "1.5.0",
            "_model_name": "HTMLModel",
            "_view_count": null,
            "_view_module": "@jupyter-widgets/controls",
            "_view_module_version": "1.5.0",
            "_view_name": "HTMLView",
            "description": "",
            "description_tooltip": null,
            "layout": "IPY_MODEL_a0d80488086444bbbb4c1db426bc39c3",
            "placeholder": "​",
            "style": "IPY_MODEL_a47658824acc40a396ecad462c16ffdf",
            "value": "config.json: 100%"
          }
        },
        "89102c4283504bd2b9252699935a0e6c": {
          "model_module": "@jupyter-widgets/controls",
          "model_name": "FloatProgressModel",
          "model_module_version": "1.5.0",
          "state": {
            "_dom_classes": [],
            "_model_module": "@jupyter-widgets/controls",
            "_model_module_version": "1.5.0",
            "_model_name": "FloatProgressModel",
            "_view_count": null,
            "_view_module": "@jupyter-widgets/controls",
            "_view_module_version": "1.5.0",
            "_view_name": "ProgressView",
            "bar_style": "success",
            "description": "",
            "description_tooltip": null,
            "layout": "IPY_MODEL_a851ea3f041f44aabc89b28bf4cccbfa",
            "max": 481,
            "min": 0,
            "orientation": "horizontal",
            "style": "IPY_MODEL_1fd1935394924f9e8e1bcf0d99613ec5",
            "value": 481
          }
        },
        "d6ec2b567586493a8e576294a731c566": {
          "model_module": "@jupyter-widgets/controls",
          "model_name": "HTMLModel",
          "model_module_version": "1.5.0",
          "state": {
            "_dom_classes": [],
            "_model_module": "@jupyter-widgets/controls",
            "_model_module_version": "1.5.0",
            "_model_name": "HTMLModel",
            "_view_count": null,
            "_view_module": "@jupyter-widgets/controls",
            "_view_module_version": "1.5.0",
            "_view_name": "HTMLView",
            "description": "",
            "description_tooltip": null,
            "layout": "IPY_MODEL_b7275fa814034f8ca326e322b1e850ee",
            "placeholder": "​",
            "style": "IPY_MODEL_d9079d86fc504ca7bead32a4d31b52db",
            "value": " 481/481 [00:00&lt;00:00, 37.2kB/s]"
          }
        },
        "cc755734a58f4e40a429bd31ebdaa30c": {
          "model_module": "@jupyter-widgets/base",
          "model_name": "LayoutModel",
          "model_module_version": "1.2.0",
          "state": {
            "_model_module": "@jupyter-widgets/base",
            "_model_module_version": "1.2.0",
            "_model_name": "LayoutModel",
            "_view_count": null,
            "_view_module": "@jupyter-widgets/base",
            "_view_module_version": "1.2.0",
            "_view_name": "LayoutView",
            "align_content": null,
            "align_items": null,
            "align_self": null,
            "border": null,
            "bottom": null,
            "display": null,
            "flex": null,
            "flex_flow": null,
            "grid_area": null,
            "grid_auto_columns": null,
            "grid_auto_flow": null,
            "grid_auto_rows": null,
            "grid_column": null,
            "grid_gap": null,
            "grid_row": null,
            "grid_template_areas": null,
            "grid_template_columns": null,
            "grid_template_rows": null,
            "height": null,
            "justify_content": null,
            "justify_items": null,
            "left": null,
            "margin": null,
            "max_height": null,
            "max_width": null,
            "min_height": null,
            "min_width": null,
            "object_fit": null,
            "object_position": null,
            "order": null,
            "overflow": null,
            "overflow_x": null,
            "overflow_y": null,
            "padding": null,
            "right": null,
            "top": null,
            "visibility": null,
            "width": null
          }
        },
        "a0d80488086444bbbb4c1db426bc39c3": {
          "model_module": "@jupyter-widgets/base",
          "model_name": "LayoutModel",
          "model_module_version": "1.2.0",
          "state": {
            "_model_module": "@jupyter-widgets/base",
            "_model_module_version": "1.2.0",
            "_model_name": "LayoutModel",
            "_view_count": null,
            "_view_module": "@jupyter-widgets/base",
            "_view_module_version": "1.2.0",
            "_view_name": "LayoutView",
            "align_content": null,
            "align_items": null,
            "align_self": null,
            "border": null,
            "bottom": null,
            "display": null,
            "flex": null,
            "flex_flow": null,
            "grid_area": null,
            "grid_auto_columns": null,
            "grid_auto_flow": null,
            "grid_auto_rows": null,
            "grid_column": null,
            "grid_gap": null,
            "grid_row": null,
            "grid_template_areas": null,
            "grid_template_columns": null,
            "grid_template_rows": null,
            "height": null,
            "justify_content": null,
            "justify_items": null,
            "left": null,
            "margin": null,
            "max_height": null,
            "max_width": null,
            "min_height": null,
            "min_width": null,
            "object_fit": null,
            "object_position": null,
            "order": null,
            "overflow": null,
            "overflow_x": null,
            "overflow_y": null,
            "padding": null,
            "right": null,
            "top": null,
            "visibility": null,
            "width": null
          }
        },
        "a47658824acc40a396ecad462c16ffdf": {
          "model_module": "@jupyter-widgets/controls",
          "model_name": "DescriptionStyleModel",
          "model_module_version": "1.5.0",
          "state": {
            "_model_module": "@jupyter-widgets/controls",
            "_model_module_version": "1.5.0",
            "_model_name": "DescriptionStyleModel",
            "_view_count": null,
            "_view_module": "@jupyter-widgets/base",
            "_view_module_version": "1.2.0",
            "_view_name": "StyleView",
            "description_width": ""
          }
        },
        "a851ea3f041f44aabc89b28bf4cccbfa": {
          "model_module": "@jupyter-widgets/base",
          "model_name": "LayoutModel",
          "model_module_version": "1.2.0",
          "state": {
            "_model_module": "@jupyter-widgets/base",
            "_model_module_version": "1.2.0",
            "_model_name": "LayoutModel",
            "_view_count": null,
            "_view_module": "@jupyter-widgets/base",
            "_view_module_version": "1.2.0",
            "_view_name": "LayoutView",
            "align_content": null,
            "align_items": null,
            "align_self": null,
            "border": null,
            "bottom": null,
            "display": null,
            "flex": null,
            "flex_flow": null,
            "grid_area": null,
            "grid_auto_columns": null,
            "grid_auto_flow": null,
            "grid_auto_rows": null,
            "grid_column": null,
            "grid_gap": null,
            "grid_row": null,
            "grid_template_areas": null,
            "grid_template_columns": null,
            "grid_template_rows": null,
            "height": null,
            "justify_content": null,
            "justify_items": null,
            "left": null,
            "margin": null,
            "max_height": null,
            "max_width": null,
            "min_height": null,
            "min_width": null,
            "object_fit": null,
            "object_position": null,
            "order": null,
            "overflow": null,
            "overflow_x": null,
            "overflow_y": null,
            "padding": null,
            "right": null,
            "top": null,
            "visibility": null,
            "width": null
          }
        },
        "1fd1935394924f9e8e1bcf0d99613ec5": {
          "model_module": "@jupyter-widgets/controls",
          "model_name": "ProgressStyleModel",
          "model_module_version": "1.5.0",
          "state": {
            "_model_module": "@jupyter-widgets/controls",
            "_model_module_version": "1.5.0",
            "_model_name": "ProgressStyleModel",
            "_view_count": null,
            "_view_module": "@jupyter-widgets/base",
            "_view_module_version": "1.2.0",
            "_view_name": "StyleView",
            "bar_color": null,
            "description_width": ""
          }
        },
        "b7275fa814034f8ca326e322b1e850ee": {
          "model_module": "@jupyter-widgets/base",
          "model_name": "LayoutModel",
          "model_module_version": "1.2.0",
          "state": {
            "_model_module": "@jupyter-widgets/base",
            "_model_module_version": "1.2.0",
            "_model_name": "LayoutModel",
            "_view_count": null,
            "_view_module": "@jupyter-widgets/base",
            "_view_module_version": "1.2.0",
            "_view_name": "LayoutView",
            "align_content": null,
            "align_items": null,
            "align_self": null,
            "border": null,
            "bottom": null,
            "display": null,
            "flex": null,
            "flex_flow": null,
            "grid_area": null,
            "grid_auto_columns": null,
            "grid_auto_flow": null,
            "grid_auto_rows": null,
            "grid_column": null,
            "grid_gap": null,
            "grid_row": null,
            "grid_template_areas": null,
            "grid_template_columns": null,
            "grid_template_rows": null,
            "height": null,
            "justify_content": null,
            "justify_items": null,
            "left": null,
            "margin": null,
            "max_height": null,
            "max_width": null,
            "min_height": null,
            "min_width": null,
            "object_fit": null,
            "object_position": null,
            "order": null,
            "overflow": null,
            "overflow_x": null,
            "overflow_y": null,
            "padding": null,
            "right": null,
            "top": null,
            "visibility": null,
            "width": null
          }
        },
        "d9079d86fc504ca7bead32a4d31b52db": {
          "model_module": "@jupyter-widgets/controls",
          "model_name": "DescriptionStyleModel",
          "model_module_version": "1.5.0",
          "state": {
            "_model_module": "@jupyter-widgets/controls",
            "_model_module_version": "1.5.0",
            "_model_name": "DescriptionStyleModel",
            "_view_count": null,
            "_view_module": "@jupyter-widgets/base",
            "_view_module_version": "1.2.0",
            "_view_name": "StyleView",
            "description_width": ""
          }
        },
        "e2faa6a33d5845739376848ebce3ee4a": {
          "model_module": "@jupyter-widgets/controls",
          "model_name": "HBoxModel",
          "model_module_version": "1.5.0",
          "state": {
            "_dom_classes": [],
            "_model_module": "@jupyter-widgets/controls",
            "_model_module_version": "1.5.0",
            "_model_name": "HBoxModel",
            "_view_count": null,
            "_view_module": "@jupyter-widgets/controls",
            "_view_module_version": "1.5.0",
            "_view_name": "HBoxView",
            "box_style": "",
            "children": [
              "IPY_MODEL_14a1c6b0bef3411e9e8c7d167a269806",
              "IPY_MODEL_5a399b9bc41a4bf6a682bb1476bd1f18",
              "IPY_MODEL_134b0135635248cbb553a992014efdea"
            ],
            "layout": "IPY_MODEL_9e0809e71009468d809574b241c1e79c"
          }
        },
        "14a1c6b0bef3411e9e8c7d167a269806": {
          "model_module": "@jupyter-widgets/controls",
          "model_name": "HTMLModel",
          "model_module_version": "1.5.0",
          "state": {
            "_dom_classes": [],
            "_model_module": "@jupyter-widgets/controls",
            "_model_module_version": "1.5.0",
            "_model_name": "HTMLModel",
            "_view_count": null,
            "_view_module": "@jupyter-widgets/controls",
            "_view_module_version": "1.5.0",
            "_view_name": "HTMLView",
            "description": "",
            "description_tooltip": null,
            "layout": "IPY_MODEL_e6713ba55baa43eeb34e349cf0c5899f",
            "placeholder": "​",
            "style": "IPY_MODEL_fa9f0b9d050a4397b3a5a5d2274e7684",
            "value": "model.safetensors: 100%"
          }
        },
        "5a399b9bc41a4bf6a682bb1476bd1f18": {
          "model_module": "@jupyter-widgets/controls",
          "model_name": "FloatProgressModel",
          "model_module_version": "1.5.0",
          "state": {
            "_dom_classes": [],
            "_model_module": "@jupyter-widgets/controls",
            "_model_module_version": "1.5.0",
            "_model_name": "FloatProgressModel",
            "_view_count": null,
            "_view_module": "@jupyter-widgets/controls",
            "_view_module_version": "1.5.0",
            "_view_name": "ProgressView",
            "bar_style": "success",
            "description": "",
            "description_tooltip": null,
            "layout": "IPY_MODEL_25bad2ccda7c4190ad2852142b9d116b",
            "max": 498818054,
            "min": 0,
            "orientation": "horizontal",
            "style": "IPY_MODEL_8150895177544272ab6fb3aab810354a",
            "value": 498818054
          }
        },
        "134b0135635248cbb553a992014efdea": {
          "model_module": "@jupyter-widgets/controls",
          "model_name": "HTMLModel",
          "model_module_version": "1.5.0",
          "state": {
            "_dom_classes": [],
            "_model_module": "@jupyter-widgets/controls",
            "_model_module_version": "1.5.0",
            "_model_name": "HTMLModel",
            "_view_count": null,
            "_view_module": "@jupyter-widgets/controls",
            "_view_module_version": "1.5.0",
            "_view_name": "HTMLView",
            "description": "",
            "description_tooltip": null,
            "layout": "IPY_MODEL_98e88f75868a44f887adc28e5dc5e95f",
            "placeholder": "​",
            "style": "IPY_MODEL_2b80bdafc3d84285b5a9ebb11db21ddf",
            "value": " 499M/499M [00:02&lt;00:00, 249MB/s]"
          }
        },
        "9e0809e71009468d809574b241c1e79c": {
          "model_module": "@jupyter-widgets/base",
          "model_name": "LayoutModel",
          "model_module_version": "1.2.0",
          "state": {
            "_model_module": "@jupyter-widgets/base",
            "_model_module_version": "1.2.0",
            "_model_name": "LayoutModel",
            "_view_count": null,
            "_view_module": "@jupyter-widgets/base",
            "_view_module_version": "1.2.0",
            "_view_name": "LayoutView",
            "align_content": null,
            "align_items": null,
            "align_self": null,
            "border": null,
            "bottom": null,
            "display": null,
            "flex": null,
            "flex_flow": null,
            "grid_area": null,
            "grid_auto_columns": null,
            "grid_auto_flow": null,
            "grid_auto_rows": null,
            "grid_column": null,
            "grid_gap": null,
            "grid_row": null,
            "grid_template_areas": null,
            "grid_template_columns": null,
            "grid_template_rows": null,
            "height": null,
            "justify_content": null,
            "justify_items": null,
            "left": null,
            "margin": null,
            "max_height": null,
            "max_width": null,
            "min_height": null,
            "min_width": null,
            "object_fit": null,
            "object_position": null,
            "order": null,
            "overflow": null,
            "overflow_x": null,
            "overflow_y": null,
            "padding": null,
            "right": null,
            "top": null,
            "visibility": null,
            "width": null
          }
        },
        "e6713ba55baa43eeb34e349cf0c5899f": {
          "model_module": "@jupyter-widgets/base",
          "model_name": "LayoutModel",
          "model_module_version": "1.2.0",
          "state": {
            "_model_module": "@jupyter-widgets/base",
            "_model_module_version": "1.2.0",
            "_model_name": "LayoutModel",
            "_view_count": null,
            "_view_module": "@jupyter-widgets/base",
            "_view_module_version": "1.2.0",
            "_view_name": "LayoutView",
            "align_content": null,
            "align_items": null,
            "align_self": null,
            "border": null,
            "bottom": null,
            "display": null,
            "flex": null,
            "flex_flow": null,
            "grid_area": null,
            "grid_auto_columns": null,
            "grid_auto_flow": null,
            "grid_auto_rows": null,
            "grid_column": null,
            "grid_gap": null,
            "grid_row": null,
            "grid_template_areas": null,
            "grid_template_columns": null,
            "grid_template_rows": null,
            "height": null,
            "justify_content": null,
            "justify_items": null,
            "left": null,
            "margin": null,
            "max_height": null,
            "max_width": null,
            "min_height": null,
            "min_width": null,
            "object_fit": null,
            "object_position": null,
            "order": null,
            "overflow": null,
            "overflow_x": null,
            "overflow_y": null,
            "padding": null,
            "right": null,
            "top": null,
            "visibility": null,
            "width": null
          }
        },
        "fa9f0b9d050a4397b3a5a5d2274e7684": {
          "model_module": "@jupyter-widgets/controls",
          "model_name": "DescriptionStyleModel",
          "model_module_version": "1.5.0",
          "state": {
            "_model_module": "@jupyter-widgets/controls",
            "_model_module_version": "1.5.0",
            "_model_name": "DescriptionStyleModel",
            "_view_count": null,
            "_view_module": "@jupyter-widgets/base",
            "_view_module_version": "1.2.0",
            "_view_name": "StyleView",
            "description_width": ""
          }
        },
        "25bad2ccda7c4190ad2852142b9d116b": {
          "model_module": "@jupyter-widgets/base",
          "model_name": "LayoutModel",
          "model_module_version": "1.2.0",
          "state": {
            "_model_module": "@jupyter-widgets/base",
            "_model_module_version": "1.2.0",
            "_model_name": "LayoutModel",
            "_view_count": null,
            "_view_module": "@jupyter-widgets/base",
            "_view_module_version": "1.2.0",
            "_view_name": "LayoutView",
            "align_content": null,
            "align_items": null,
            "align_self": null,
            "border": null,
            "bottom": null,
            "display": null,
            "flex": null,
            "flex_flow": null,
            "grid_area": null,
            "grid_auto_columns": null,
            "grid_auto_flow": null,
            "grid_auto_rows": null,
            "grid_column": null,
            "grid_gap": null,
            "grid_row": null,
            "grid_template_areas": null,
            "grid_template_columns": null,
            "grid_template_rows": null,
            "height": null,
            "justify_content": null,
            "justify_items": null,
            "left": null,
            "margin": null,
            "max_height": null,
            "max_width": null,
            "min_height": null,
            "min_width": null,
            "object_fit": null,
            "object_position": null,
            "order": null,
            "overflow": null,
            "overflow_x": null,
            "overflow_y": null,
            "padding": null,
            "right": null,
            "top": null,
            "visibility": null,
            "width": null
          }
        },
        "8150895177544272ab6fb3aab810354a": {
          "model_module": "@jupyter-widgets/controls",
          "model_name": "ProgressStyleModel",
          "model_module_version": "1.5.0",
          "state": {
            "_model_module": "@jupyter-widgets/controls",
            "_model_module_version": "1.5.0",
            "_model_name": "ProgressStyleModel",
            "_view_count": null,
            "_view_module": "@jupyter-widgets/base",
            "_view_module_version": "1.2.0",
            "_view_name": "StyleView",
            "bar_color": null,
            "description_width": ""
          }
        },
        "98e88f75868a44f887adc28e5dc5e95f": {
          "model_module": "@jupyter-widgets/base",
          "model_name": "LayoutModel",
          "model_module_version": "1.2.0",
          "state": {
            "_model_module": "@jupyter-widgets/base",
            "_model_module_version": "1.2.0",
            "_model_name": "LayoutModel",
            "_view_count": null,
            "_view_module": "@jupyter-widgets/base",
            "_view_module_version": "1.2.0",
            "_view_name": "LayoutView",
            "align_content": null,
            "align_items": null,
            "align_self": null,
            "border": null,
            "bottom": null,
            "display": null,
            "flex": null,
            "flex_flow": null,
            "grid_area": null,
            "grid_auto_columns": null,
            "grid_auto_flow": null,
            "grid_auto_rows": null,
            "grid_column": null,
            "grid_gap": null,
            "grid_row": null,
            "grid_template_areas": null,
            "grid_template_columns": null,
            "grid_template_rows": null,
            "height": null,
            "justify_content": null,
            "justify_items": null,
            "left": null,
            "margin": null,
            "max_height": null,
            "max_width": null,
            "min_height": null,
            "min_width": null,
            "object_fit": null,
            "object_position": null,
            "order": null,
            "overflow": null,
            "overflow_x": null,
            "overflow_y": null,
            "padding": null,
            "right": null,
            "top": null,
            "visibility": null,
            "width": null
          }
        },
        "2b80bdafc3d84285b5a9ebb11db21ddf": {
          "model_module": "@jupyter-widgets/controls",
          "model_name": "DescriptionStyleModel",
          "model_module_version": "1.5.0",
          "state": {
            "_model_module": "@jupyter-widgets/controls",
            "_model_module_version": "1.5.0",
            "_model_name": "DescriptionStyleModel",
            "_view_count": null,
            "_view_module": "@jupyter-widgets/base",
            "_view_module_version": "1.2.0",
            "_view_name": "StyleView",
            "description_width": ""
          }
        }
      }
    }
  },
  "cells": [
    {
      "cell_type": "code",
      "execution_count": 1,
      "metadata": {
        "colab": {
          "base_uri": "https://localhost:8080/"
        },
        "id": "AvC8v5Hxk0VE",
        "outputId": "24395917-c1ec-4040-9e95-10537913648d"
      },
      "outputs": [
        {
          "output_type": "stream",
          "name": "stdout",
          "text": [
            "Mounted at /content/drive\n",
            "\u001b[2K     \u001b[90m━━━━━━━━━━━━━━━━━━━━━━━━━━━━━━━━━━━━━━━━\u001b[0m \u001b[32m44.1/44.1 kB\u001b[0m \u001b[31m1.9 MB/s\u001b[0m eta \u001b[36m0:00:00\u001b[0m\n",
            "\u001b[2K   \u001b[90m━━━━━━━━━━━━━━━━━━━━━━━━━━━━━━━━━━━━━━━━\u001b[0m \u001b[32m10.0/10.0 MB\u001b[0m \u001b[31m75.1 MB/s\u001b[0m eta \u001b[36m0:00:00\u001b[0m\n",
            "\u001b[2K   \u001b[90m━━━━━━━━━━━━━━━━━━━━━━━━━━━━━━━━━━━━━━━━\u001b[0m \u001b[32m84.0/84.0 kB\u001b[0m \u001b[31m7.8 MB/s\u001b[0m eta \u001b[36m0:00:00\u001b[0m\n",
            "\u001b[2K   \u001b[90m━━━━━━━━━━━━━━━━━━━━━━━━━━━━━━━━━━━━━━━━\u001b[0m \u001b[32m472.7/472.7 kB\u001b[0m \u001b[31m35.2 MB/s\u001b[0m eta \u001b[36m0:00:00\u001b[0m\n",
            "\u001b[2K   \u001b[90m━━━━━━━━━━━━━━━━━━━━━━━━━━━━━━━━━━━━━━━━\u001b[0m \u001b[32m330.9/330.9 kB\u001b[0m \u001b[31m25.8 MB/s\u001b[0m eta \u001b[36m0:00:00\u001b[0m\n",
            "\u001b[2K   \u001b[90m━━━━━━━━━━━━━━━━━━━━━━━━━━━━━━━━━━━━━━━━\u001b[0m \u001b[32m116.3/116.3 kB\u001b[0m \u001b[31m10.5 MB/s\u001b[0m eta \u001b[36m0:00:00\u001b[0m\n",
            "\u001b[2K   \u001b[90m━━━━━━━━━━━━━━━━━━━━━━━━━━━━━━━━━━━━━━━━\u001b[0m \u001b[32m134.8/134.8 kB\u001b[0m \u001b[31m11.2 MB/s\u001b[0m eta \u001b[36m0:00:00\u001b[0m\n",
            "\u001b[2K   \u001b[90m━━━━━━━━━━━━━━━━━━━━━━━━━━━━━━━━━━━━━━━━\u001b[0m \u001b[32m3.0/3.0 MB\u001b[0m \u001b[31m76.1 MB/s\u001b[0m eta \u001b[36m0:00:00\u001b[0m\n",
            "\u001b[2K   \u001b[90m━━━━━━━━━━━━━━━━━━━━━━━━━━━━━━━━━━━━━━━━\u001b[0m \u001b[32m194.1/194.1 kB\u001b[0m \u001b[31m17.4 MB/s\u001b[0m eta \u001b[36m0:00:00\u001b[0m\n",
            "\u001b[?25h"
          ]
        }
      ],
      "source": [
        "# If in Colab, then import the drive module from google.colab\n",
        "if 'google.colab' in str(get_ipython()):\n",
        "  from google.colab import drive\n",
        "  # Mount the Google Drive to access files stored there\n",
        "  drive.mount('/content/drive')\n",
        "\n",
        "  # Install the latest version of torchtext library quietly without showing output\n",
        "\n",
        "  !pip install transformers evaluate wandb datasets accelerate  -U -qq\n",
        "\n",
        "  basepath = '/content/drive/MyDrive/utd_classes/Sem3/NLP/HWs'\n",
        "else:\n",
        "  basepath = '/Users/rucheekkashyap/utd_classes/Sem3/NLP/HWs/'\n",
        "\n"
      ]
    },
    {
      "cell_type": "code",
      "source": [
        "# Importing PyTorch library for tensor computations and neural network modules\n",
        "import torch\n",
        "import torch.nn as nn\n",
        "\n",
        "# For working with textual data vocabularies and for displaying model summaries\n",
        "\n",
        "# General-purpose Python libraries for random number generation and numerical operations\n",
        "import random\n",
        "import numpy as np\n",
        "\n",
        "# Utilities for efficient serialization/deserialization of Python objects and for element tallying\n",
        "import joblib\n",
        "from collections import Counter\n",
        "\n",
        "# For creating lightweight attribute classes and for partial function application\n",
        "from functools import partial\n",
        "\n",
        "# For filesystem path handling, generating and displaying confusion matrices, and date-time manipulations\n",
        "from pathlib import Path\n",
        "from sklearn.metrics import confusion_matrix\n",
        "from datetime import datetime\n",
        "\n",
        "# For plotting and visualization\n",
        "import matplotlib.pyplot as plt\n",
        "import seaborn as sns\n",
        "# %matplotlib inline\n",
        "\n",
        "### NEW ##########################\n",
        "# imports from Huggingface ecosystem\n",
        "from transformers.modeling_outputs import SequenceClassifierOutput\n",
        "from transformers import PreTrainedModel, PretrainedConfig\n",
        "from transformers import TrainingArguments, Trainer\n",
        "from datasets import Dataset\n",
        "import evaluate\n",
        "\n",
        "# wandb library\n",
        "import wandb"
      ],
      "metadata": {
        "id": "HhML23JFk4Ej"
      },
      "execution_count": 2,
      "outputs": []
    },
    {
      "cell_type": "code",
      "source": [
        "#initialize wandb\n",
        "import wandb\n",
        "wandb.login()\n",
        "wandb.init(project=\"roberta-training\", name=\"imbalanced_roberta_finetuning\")"
      ],
      "metadata": {
        "colab": {
          "base_uri": "https://localhost:8080/",
          "height": 246
        },
        "id": "EeUohwwwvBDV",
        "outputId": "ebe1fb6a-8f95-4328-db59-18b48f2466e2"
      },
      "execution_count": 3,
      "outputs": [
        {
          "output_type": "stream",
          "name": "stderr",
          "text": [
            "\u001b[34m\u001b[1mwandb\u001b[0m: Using wandb-core as the SDK backend. Please refer to https://wandb.me/wandb-core for more information.\n"
          ]
        },
        {
          "output_type": "display_data",
          "data": {
            "text/plain": [
              "<IPython.core.display.Javascript object>"
            ],
            "application/javascript": [
              "\n",
              "        window._wandbApiKey = new Promise((resolve, reject) => {\n",
              "            function loadScript(url) {\n",
              "            return new Promise(function(resolve, reject) {\n",
              "                let newScript = document.createElement(\"script\");\n",
              "                newScript.onerror = reject;\n",
              "                newScript.onload = resolve;\n",
              "                document.body.appendChild(newScript);\n",
              "                newScript.src = url;\n",
              "            });\n",
              "            }\n",
              "            loadScript(\"https://cdn.jsdelivr.net/npm/postmate/build/postmate.min.js\").then(() => {\n",
              "            const iframe = document.createElement('iframe')\n",
              "            iframe.style.cssText = \"width:0;height:0;border:none\"\n",
              "            document.body.appendChild(iframe)\n",
              "            const handshake = new Postmate({\n",
              "                container: iframe,\n",
              "                url: 'https://wandb.ai/authorize'\n",
              "            });\n",
              "            const timeout = setTimeout(() => reject(\"Couldn't auto authenticate\"), 5000)\n",
              "            handshake.then(function(child) {\n",
              "                child.on('authorize', data => {\n",
              "                    clearTimeout(timeout)\n",
              "                    resolve(data)\n",
              "                });\n",
              "            });\n",
              "            })\n",
              "        });\n",
              "    "
            ]
          },
          "metadata": {}
        },
        {
          "output_type": "stream",
          "name": "stderr",
          "text": [
            "\u001b[34m\u001b[1mwandb\u001b[0m: Logging into wandb.ai. (Learn how to deploy a W&B server locally: https://wandb.me/wandb-server)\n",
            "\u001b[34m\u001b[1mwandb\u001b[0m: You can find your API key in your browser here: https://wandb.ai/authorize\n",
            "wandb: Paste an API key from your profile and hit enter, or press ctrl+c to quit:"
          ]
        },
        {
          "name": "stdout",
          "output_type": "stream",
          "text": [
            " ··········\n"
          ]
        },
        {
          "output_type": "stream",
          "name": "stderr",
          "text": [
            "\u001b[34m\u001b[1mwandb\u001b[0m: Appending key for api.wandb.ai to your netrc file: /root/.netrc\n",
            "\u001b[34m\u001b[1mwandb\u001b[0m: Currently logged in as: \u001b[33mrucheekkashyap\u001b[0m (\u001b[33mrucheekkashyap-the-university-of-texas-at-dallas\u001b[0m). Use \u001b[1m`wandb login --relogin`\u001b[0m to force relogin\n"
          ]
        },
        {
          "output_type": "display_data",
          "data": {
            "text/plain": [
              "<IPython.core.display.HTML object>"
            ],
            "text/html": [
              "Tracking run with wandb version 0.18.5"
            ]
          },
          "metadata": {}
        },
        {
          "output_type": "display_data",
          "data": {
            "text/plain": [
              "<IPython.core.display.HTML object>"
            ],
            "text/html": [
              "Run data is saved locally in <code>/content/wandb/run-20241030_184455-rqkkyfms</code>"
            ]
          },
          "metadata": {}
        },
        {
          "output_type": "display_data",
          "data": {
            "text/plain": [
              "<IPython.core.display.HTML object>"
            ],
            "text/html": [
              "Syncing run <strong><a href='https://wandb.ai/rucheekkashyap-the-university-of-texas-at-dallas/roberta-training/runs/rqkkyfms' target=\"_blank\">imbalanced_roberta_finetuning</a></strong> to <a href='https://wandb.ai/rucheekkashyap-the-university-of-texas-at-dallas/roberta-training' target=\"_blank\">Weights & Biases</a> (<a href='https://wandb.me/run' target=\"_blank\">docs</a>)<br/>"
            ]
          },
          "metadata": {}
        },
        {
          "output_type": "display_data",
          "data": {
            "text/plain": [
              "<IPython.core.display.HTML object>"
            ],
            "text/html": [
              " View project at <a href='https://wandb.ai/rucheekkashyap-the-university-of-texas-at-dallas/roberta-training' target=\"_blank\">https://wandb.ai/rucheekkashyap-the-university-of-texas-at-dallas/roberta-training</a>"
            ]
          },
          "metadata": {}
        },
        {
          "output_type": "display_data",
          "data": {
            "text/plain": [
              "<IPython.core.display.HTML object>"
            ],
            "text/html": [
              " View run at <a href='https://wandb.ai/rucheekkashyap-the-university-of-texas-at-dallas/roberta-training/runs/rqkkyfms' target=\"_blank\">https://wandb.ai/rucheekkashyap-the-university-of-texas-at-dallas/roberta-training/runs/rqkkyfms</a>"
            ]
          },
          "metadata": {}
        },
        {
          "output_type": "execute_result",
          "data": {
            "text/html": [
              "<button onClick=\"this.nextSibling.style.display='block';this.style.display='none';\">Display W&B run</button><iframe src='https://wandb.ai/rucheekkashyap-the-university-of-texas-at-dallas/roberta-training/runs/rqkkyfms?jupyter=true' style='border:none;width:100%;height:420px;display:none;'></iframe>"
            ],
            "text/plain": [
              "<wandb.sdk.wandb_run.Run at 0x7dc86c5987c0>"
            ]
          },
          "metadata": {},
          "execution_count": 3
        }
      ]
    },
    {
      "cell_type": "code",
      "source": [
        "base_folder = Path(basepath)\n",
        "data_folder = base_folder/'HW5'\n",
        "model_folder = base_folder/'HW5'\n",
        "#custom_functions = base_folder/'custom-functions'"
      ],
      "metadata": {
        "id": "Qj9-Ttxmk6zH"
      },
      "execution_count": 4,
      "outputs": []
    },
    {
      "cell_type": "code",
      "source": [
        "model_folder.mkdir(exist_ok=True, parents = True)"
      ],
      "metadata": {
        "id": "eahUktBMlANS"
      },
      "execution_count": 5,
      "outputs": []
    },
    {
      "cell_type": "code",
      "source": [
        "model_folder"
      ],
      "metadata": {
        "colab": {
          "base_uri": "https://localhost:8080/"
        },
        "id": "HUvqCzNWlC1s",
        "outputId": "7ead2e37-0886-4ad6-98df-c154cd52ccf5"
      },
      "execution_count": 6,
      "outputs": [
        {
          "output_type": "execute_result",
          "data": {
            "text/plain": [
              "PosixPath('/content/drive/MyDrive/utd_classes/Sem3/NLP/HWs/HW5')"
            ]
          },
          "metadata": {},
          "execution_count": 6
        }
      ]
    },
    {
      "cell_type": "code",
      "source": [
        "import pandas as pd\n",
        "\n",
        "# Load the train and test datasets from CSV files\n",
        "train_df = pd.read_csv(data_folder / 'train.csv')\n",
        "test_df = pd.read_csv(data_folder / 'test.csv')\n"
      ],
      "metadata": {
        "id": "ZSKJ-PEflD71"
      },
      "execution_count": 7,
      "outputs": []
    },
    {
      "cell_type": "code",
      "source": [
        "from sklearn.model_selection import train_test_split\n",
        "\n",
        "# Split the train dataset into training and validation sets\n",
        "train_df, val_df = train_test_split(train_df, test_size=0.2, random_state=42)"
      ],
      "metadata": {
        "id": "0rUyNz_LlO6r"
      },
      "execution_count": 8,
      "outputs": []
    },
    {
      "cell_type": "code",
      "source": [
        "# Display the first few rows of each dataset\n",
        "print(\"Train Dataset:\")\n",
        "print(train_df.head())\n",
        "\n",
        "print(\"\\nValidation Dataset:\")\n",
        "print(val_df.head())\n",
        "\n",
        "print(\"\\nTest Dataset:\")\n",
        "print(test_df.head())\n"
      ],
      "metadata": {
        "colab": {
          "base_uri": "https://localhost:8080/"
        },
        "id": "BwfKMJfhlS1j",
        "outputId": "68d1bce8-b05c-4926-fb67-e5f9cdf19002"
      },
      "execution_count": 9,
      "outputs": [
        {
          "output_type": "stream",
          "name": "stdout",
          "text": [
            "Train Dataset:\n",
            "              ID                                              Tweet  anger  \\\n",
            "4291  2017-20959  Going to get myself a copy of @StephenKing's C...      0   \n",
            "1210  2017-30404  @carysmithwriter @Maria_Savva @RealRockAndRoll...      0   \n",
            "1940  2017-20271  Unruly kids at 8am in the morning #nothanks ri...      1   \n",
            "6204  2017-10419  Ok but I just got called a 'White Devil' on th...      0   \n",
            "2867  2017-30687  @SXMUrbanView @karenhunter @CousinSyl you are ...      1   \n",
            "\n",
            "      anticipation  disgust  fear  joy  love  optimism  pessimism  sadness  \\\n",
            "4291             1        0     0    1     0         1          0        0   \n",
            "1210             0        0     0    1     1         1          0        0   \n",
            "1940             0        1     1    0     0         0          0        0   \n",
            "6204             0        0     1    0     0         0          0        0   \n",
            "2867             0        1     0    0     0         0          0        0   \n",
            "\n",
            "      surprise  trust  \n",
            "4291         0      0  \n",
            "1210         0      0  \n",
            "1940         1      0  \n",
            "6204         1      0  \n",
            "2867         0      0  \n",
            "\n",
            "Validation Dataset:\n",
            "              ID                                              Tweet  anger  \\\n",
            "6258  2017-30250  I'm due for a big change! I've prayed on it, I...      0   \n",
            "2337  2017-30519  incetown, age 23, joyful, elevated in hope wit...      0   \n",
            "7031  2018-01720  Never heard of #CaraCaraOranges until today. V...      0   \n",
            "1103  2017-21698  I'm so bored and fat and full and ridiculously...      1   \n",
            "6315  2017-10998  @easyJet Hi folks. Flight is going to be over ...      1   \n",
            "\n",
            "      anticipation  disgust  fear  joy  love  optimism  pessimism  sadness  \\\n",
            "6258             0        0     0    1     0         1          0        0   \n",
            "2337             0        0     0    1     0         1          0        0   \n",
            "7031             0        0     0    1     1         1          0        0   \n",
            "1103             0        1     1    0     0         0          1        1   \n",
            "6315             0        1     0    0     0         0          0        0   \n",
            "\n",
            "      surprise  trust  \n",
            "6258         0      1  \n",
            "2337         0      0  \n",
            "7031         0      0  \n",
            "1103         0      0  \n",
            "6315         0      0  \n",
            "\n",
            "Test Dataset:\n",
            "           ID                                              Tweet anger  \\\n",
            "0  2018-01559  @Adnan__786__ @AsYouNotWish Dont worry Indian ...  NONE   \n",
            "1  2018-03739  Academy of Sciences, eschews the normally sobe...  NONE   \n",
            "2  2018-00385                  I blew that opportunity -__- #mad  NONE   \n",
            "3  2018-03001             This time in 2 weeks I will be 30... 😥  NONE   \n",
            "4  2018-01988  #Deppression is real. Partners w/ #depressed p...  NONE   \n",
            "\n",
            "  anticipation disgust  fear   joy  love optimism pessimism sadness surprise  \\\n",
            "0         NONE    NONE  NONE  NONE  NONE     NONE      NONE    NONE     NONE   \n",
            "1         NONE    NONE  NONE  NONE  NONE     NONE      NONE    NONE     NONE   \n",
            "2         NONE    NONE  NONE  NONE  NONE     NONE      NONE    NONE     NONE   \n",
            "3         NONE    NONE  NONE  NONE  NONE     NONE      NONE    NONE     NONE   \n",
            "4         NONE    NONE  NONE  NONE  NONE     NONE      NONE    NONE     NONE   \n",
            "\n",
            "  trust  \n",
            "0  NONE  \n",
            "1  NONE  \n",
            "2  NONE  \n",
            "3  NONE  \n",
            "4  NONE  \n"
          ]
        }
      ]
    },
    {
      "cell_type": "code",
      "source": [
        "X_train_df = train_df['Tweet']\n",
        "y_train_df = train_df.drop(columns=['ID','Tweet'], axis=1)\n",
        "\n",
        "X_valid_df = val_df['Tweet']\n",
        "y_valid_df = val_df.drop(columns=['ID','Tweet'], axis=1)\n",
        "\n",
        "X_test_df = test_df['Tweet']\n",
        "y_test_df = test_df.drop(columns=['ID','Tweet'], axis=1)\n",
        "\n",
        "X_train_df.head(), y_train_df.head()"
      ],
      "metadata": {
        "colab": {
          "base_uri": "https://localhost:8080/"
        },
        "id": "N1CpMKRilkxy",
        "outputId": "4f593a65-0e93-421b-b682-a6efa22faafd"
      },
      "execution_count": 10,
      "outputs": [
        {
          "output_type": "execute_result",
          "data": {
            "text/plain": [
              "(4291    Going to get myself a copy of @StephenKing's C...\n",
              " 1210    @carysmithwriter @Maria_Savva @RealRockAndRoll...\n",
              " 1940    Unruly kids at 8am in the morning #nothanks ri...\n",
              " 6204    Ok but I just got called a 'White Devil' on th...\n",
              " 2867    @SXMUrbanView @karenhunter @CousinSyl you are ...\n",
              " Name: Tweet, dtype: object,\n",
              "       anger  anticipation  disgust  fear  joy  love  optimism  pessimism  \\\n",
              " 4291      0             1        0     0    1     0         1          0   \n",
              " 1210      0             0        0     0    1     1         1          0   \n",
              " 1940      1             0        1     1    0     0         0          0   \n",
              " 6204      0             0        0     1    0     0         0          0   \n",
              " 2867      1             0        1     0    0     0         0          0   \n",
              " \n",
              "       sadness  surprise  trust  \n",
              " 4291        0         0      0  \n",
              " 1210        0         0      0  \n",
              " 1940        0         1      0  \n",
              " 6204        0         1      0  \n",
              " 2867        0         0      0  )"
            ]
          },
          "metadata": {},
          "execution_count": 10
        }
      ]
    },
    {
      "cell_type": "code",
      "source": [
        "# Step 1: Tokenize the Text Data\n",
        "from transformers import RobertaTokenizer\n",
        "\n",
        "# Load the tokenizer for RoBERTa\n",
        "tokenizer = RobertaTokenizer.from_pretrained(\"roberta-base\")\n",
        "\n",
        "# Define a function to tokenize the dataset\n",
        "def tokenize_data(texts):\n",
        "    return tokenizer(texts, padding=\"max_length\", truncation=True, max_length=128)\n",
        "\n",
        "# Tokenize both the training and validation data\n",
        "train_encodings = tokenize_data(list(X_train_df))\n",
        "val_encodings = tokenize_data(list(X_valid_df))\n",
        "\n",
        "# Map labels from DataFrames\n",
        "train_labels = y_train_df.values.tolist()\n",
        "val_labels = y_valid_df.values.tolist()\n"
      ],
      "metadata": {
        "colab": {
          "base_uri": "https://localhost:8080/",
          "height": 301,
          "referenced_widgets": [
            "aa56d126158c4ce4bbfc9b710d8df906",
            "88248a85163a4299a2a4179fb852a01d",
            "d7e3270c2bc541c08049c59b9ec29c82",
            "fa3e04f5615745d19513efb6ae9d37c7",
            "d98882998e194640b74f07da79d49ae7",
            "06df4b96109f4068b4bbae21069fd354",
            "efa3c95d6917457f8fc520a38a18abdd",
            "be26b0d12ee14057b5771cae9b56326d",
            "5dd10d75e1b54ec2923ef7ec2ec3e747",
            "e88cc5535ee04f558e4140e9ddf6aff3",
            "828e54196d66492bb23376396936b8f2",
            "1527f9bba88d41abb8b073daa9dbef94",
            "972643dfa2824d9e86173568fb934978",
            "2f74f0ceb40a458d8ae7f7a8369a8093",
            "3cf808507cd54c3ab1e382edefc692e7",
            "ff078161d8ac453d8d3140d562652b39",
            "d4e4b66019c045aaa777a93d0918cd4e",
            "f9c88c3015ae499aac26eb2df96c656a",
            "8feb8a39acb24280b6d2a207fd5b3d04",
            "b390b538fe164fe0a5e0ef0dd80b757d",
            "33011f710e7f4003b659e1c25ae9431a",
            "66a702fa6bae4a8aa3b807b85c5ae973",
            "0ededcf76fdb4385a5cfd1ef0003b9b6",
            "00202162514a4ab5944d0e910e5927fe",
            "3f547c77075842fb9f8d043b6345994e",
            "2c6d51b3b52249b38f008886a7d6a719",
            "9067d55cc49f4bf2910c49861429c142",
            "3d4714a81f1a40df83c0756daffcc20f",
            "fe5b69c1896449a792688bcc88ecb9ef",
            "39ee673ffc0447b8a9a8b21f9b5ecedd",
            "421eee8e306747d1b988a1416f48c5f5",
            "0569cf3bde5642a5ad49450ce379e5f0",
            "7f44c49869cf449f9b4bca6b33e63c5f",
            "4306a042fb424da980797870533a1932",
            "2c564b3e19974434a126d819b2138faf",
            "85831dc2e0d84825834ecfa71ac27c78",
            "5e501134e9404058a005873aef5b2bb7",
            "caf6a5bf706b46edb4539d75c91e7bb1",
            "e9389dd15a9947de90f258baa151a463",
            "e204d08825954285b689f485d5b87328",
            "b67d9afc3e8d4ef7b56b7283cf7e1b57",
            "92aa9afd45704c838414ad75fd8aa20d",
            "ea45b9efc8954917b71f70b557adde7f",
            "c695b6857f35430aae941a1167b8832b",
            "92330a9b6b094dca8278f95214968650",
            "8b24970380254d9186c4093095ae0b5f",
            "89102c4283504bd2b9252699935a0e6c",
            "d6ec2b567586493a8e576294a731c566",
            "cc755734a58f4e40a429bd31ebdaa30c",
            "a0d80488086444bbbb4c1db426bc39c3",
            "a47658824acc40a396ecad462c16ffdf",
            "a851ea3f041f44aabc89b28bf4cccbfa",
            "1fd1935394924f9e8e1bcf0d99613ec5",
            "b7275fa814034f8ca326e322b1e850ee",
            "d9079d86fc504ca7bead32a4d31b52db"
          ]
        },
        "id": "If-TR-pYln4X",
        "outputId": "c5625dc7-6ee9-4014-c673-a96ce9f07ff2"
      },
      "execution_count": 11,
      "outputs": [
        {
          "output_type": "stream",
          "name": "stderr",
          "text": [
            "/usr/local/lib/python3.10/dist-packages/huggingface_hub/utils/_token.py:89: UserWarning: \n",
            "The secret `HF_TOKEN` does not exist in your Colab secrets.\n",
            "To authenticate with the Hugging Face Hub, create a token in your settings tab (https://huggingface.co/settings/tokens), set it as secret in your Google Colab and restart your session.\n",
            "You will be able to reuse this secret in all of your notebooks.\n",
            "Please note that authentication is recommended but still optional to access public models or datasets.\n",
            "  warnings.warn(\n"
          ]
        },
        {
          "output_type": "display_data",
          "data": {
            "text/plain": [
              "tokenizer_config.json:   0%|          | 0.00/25.0 [00:00<?, ?B/s]"
            ],
            "application/vnd.jupyter.widget-view+json": {
              "version_major": 2,
              "version_minor": 0,
              "model_id": "aa56d126158c4ce4bbfc9b710d8df906"
            }
          },
          "metadata": {}
        },
        {
          "output_type": "display_data",
          "data": {
            "text/plain": [
              "vocab.json:   0%|          | 0.00/899k [00:00<?, ?B/s]"
            ],
            "application/vnd.jupyter.widget-view+json": {
              "version_major": 2,
              "version_minor": 0,
              "model_id": "1527f9bba88d41abb8b073daa9dbef94"
            }
          },
          "metadata": {}
        },
        {
          "output_type": "display_data",
          "data": {
            "text/plain": [
              "merges.txt:   0%|          | 0.00/456k [00:00<?, ?B/s]"
            ],
            "application/vnd.jupyter.widget-view+json": {
              "version_major": 2,
              "version_minor": 0,
              "model_id": "0ededcf76fdb4385a5cfd1ef0003b9b6"
            }
          },
          "metadata": {}
        },
        {
          "output_type": "display_data",
          "data": {
            "text/plain": [
              "tokenizer.json:   0%|          | 0.00/1.36M [00:00<?, ?B/s]"
            ],
            "application/vnd.jupyter.widget-view+json": {
              "version_major": 2,
              "version_minor": 0,
              "model_id": "4306a042fb424da980797870533a1932"
            }
          },
          "metadata": {}
        },
        {
          "output_type": "display_data",
          "data": {
            "text/plain": [
              "config.json:   0%|          | 0.00/481 [00:00<?, ?B/s]"
            ],
            "application/vnd.jupyter.widget-view+json": {
              "version_major": 2,
              "version_minor": 0,
              "model_id": "92330a9b6b094dca8278f95214968650"
            }
          },
          "metadata": {}
        }
      ]
    },
    {
      "cell_type": "code",
      "source": [
        "# Step 2: Handling Imbalance in Training Data\n",
        "# Calculate class weights for each label column\n",
        "from sklearn.utils.class_weight import compute_class_weight\n",
        "class_weights_dict = {}\n",
        "for col in y_train_df.columns:\n",
        "    class_weights = compute_class_weight(class_weight='balanced', classes=np.unique(y_train_df[col]), y=y_train_df[col])\n",
        "    class_weights_dict[col] = dict(zip(np.unique(y_train_df[col]), class_weights))\n",
        "\n",
        "# Display the calculated class weights\n",
        "print(\"Class Weights for each label:\")\n",
        "for col, weights in class_weights_dict.items():\n",
        "    print(f\"{col}: {weights}\")"
      ],
      "metadata": {
        "colab": {
          "base_uri": "https://localhost:8080/"
        },
        "id": "osQ5RBRKmstY",
        "outputId": "684276e0-c589-4293-8836-540b41b9a4c0"
      },
      "execution_count": 12,
      "outputs": [
        {
          "output_type": "stream",
          "name": "stdout",
          "text": [
            "Class Weights for each label:\n",
            "anger: {0: 0.7938078108941419, 1: 1.3508963707914299}\n",
            "anticipation: {0: 0.5830345348178901, 1: 3.5107954545454545}\n",
            "disgust: {0: 0.801634665282823, 1: 1.3288172043010753}\n",
            "fear: {0: 0.6033001366920523, 1: 2.920132325141777}\n",
            "joy: {0: 0.8001813001813002, 1: 1.332830025884383}\n",
            "love: {0: 0.5619316114950891, 1: 4.536710719530102}\n",
            "optimism: {0: 0.7149965285813469, 1: 1.6628094725511302}\n",
            "pessimism: {0: 0.5647048071650521, 1: 4.363700564971752}\n",
            "sadness: {0: 0.7076271186440678, 1: 1.7040816326530612}\n",
            "surprise: {0: 0.5278489663420468, 1: 9.476993865030675}\n",
            "trust: {0: 0.5262306251064555, 1: 10.030844155844155}\n"
          ]
        }
      ]
    },
    {
      "cell_type": "code",
      "source": [
        "# Step 3: Prepare Hugging Face Datasets\n",
        "# Define datasets as dictionaries\n",
        "trainset = Dataset.from_dict({\n",
        "    'texts': X_train_df.tolist(),\n",
        "    **{col: y_train_df[col].tolist() for col in y_train_df.columns}\n",
        "})\n",
        "\n",
        "validset = Dataset.from_dict({\n",
        "    'texts': X_valid_df.tolist(),\n",
        "    **{col: y_valid_df[col].tolist() for col in y_valid_df.columns}\n",
        "})\n",
        "\n",
        "testset = Dataset.from_dict({\n",
        "    'texts': X_test_df.tolist(),\n",
        "    **{col: y_test_df[col].tolist() for col in y_test_df.columns}\n",
        "})"
      ],
      "metadata": {
        "id": "jSsG2kIQmvjv"
      },
      "execution_count": 13,
      "outputs": []
    },
    {
      "cell_type": "code",
      "source": [
        "trainset.features"
      ],
      "metadata": {
        "colab": {
          "base_uri": "https://localhost:8080/"
        },
        "id": "eGsaFEDinAXk",
        "outputId": "cdc9bdef-c7b3-41f9-a891-2d4fd6b94d2f"
      },
      "execution_count": 14,
      "outputs": [
        {
          "output_type": "execute_result",
          "data": {
            "text/plain": [
              "{'texts': Value(dtype='string', id=None),\n",
              " 'anger': Value(dtype='int64', id=None),\n",
              " 'anticipation': Value(dtype='int64', id=None),\n",
              " 'disgust': Value(dtype='int64', id=None),\n",
              " 'fear': Value(dtype='int64', id=None),\n",
              " 'joy': Value(dtype='int64', id=None),\n",
              " 'love': Value(dtype='int64', id=None),\n",
              " 'optimism': Value(dtype='int64', id=None),\n",
              " 'pessimism': Value(dtype='int64', id=None),\n",
              " 'sadness': Value(dtype='int64', id=None),\n",
              " 'surprise': Value(dtype='int64', id=None),\n",
              " 'trust': Value(dtype='int64', id=None)}"
            ]
          },
          "metadata": {},
          "execution_count": 14
        }
      ]
    },
    {
      "cell_type": "code",
      "source": [
        "from transformers import RobertaForSequenceClassification, RobertaConfig\n",
        "import torch\n",
        "from transformers.modeling_outputs import SequenceClassifierOutput\n",
        "\n",
        "# Define configuration for the roberta-base model\n",
        "class CustomConfig:\n",
        "    def __init__(self, num_labels=11):\n",
        "        self.num_labels = num_labels\n",
        "\n",
        "    def to_dict(self):\n",
        "        return {'num_labels': self.num_labels}\n",
        "\n",
        "    def to_json_string(self):\n",
        "        return json.dumps(self.to_dict())\n",
        "\n",
        "    @classmethod\n",
        "    def from_dict(cls, config_dict):\n",
        "        return cls(**config_dict)\n",
        "\n",
        "    @classmethod\n",
        "    def from_json_string(cls, json_string):\n",
        "        config_dict = json.loads(json_string)\n",
        "        return cls.from_dict(config_dict)"
      ],
      "metadata": {
        "id": "TaDfIsKGnFgB"
      },
      "execution_count": 15,
      "outputs": []
    },
    {
      "cell_type": "code",
      "source": [
        "# Custom RoBERTa model for sequence classification\n",
        "class CustomRobertaModel:\n",
        "    def __init__(self, config):\n",
        "        # Initialize the RoBERTa model for sequence classification\n",
        "        self.model = RobertaForSequenceClassification.from_pretrained(\n",
        "            'roberta-base',\n",
        "            num_labels=config.num_labels\n",
        "        )\n",
        "\n",
        "    def forward(self, input_ids, attention_mask=None, labels=None):\n",
        "        # Forward pass through RoBERTa model\n",
        "        outputs = self.model(input_ids, attention_mask=attention_mask, labels=labels)\n",
        "        return outputs\n",
        "\n",
        "    def predict(self, test_loader, threshold=0.5):\n",
        "        self.model.eval()\n",
        "        all_predictions = []\n",
        "        all_probabilities = []\n",
        "\n",
        "        with torch.no_grad():\n",
        "            for batch in test_loader:\n",
        "                input_ids = batch['input_ids'].to(self.model.device)\n",
        "                attention_mask = batch['attention_mask'].to(self.model.device)\n",
        "\n",
        "                # Forward pass\n",
        "                outputs = self.model(input_ids, attention_mask=attention_mask)\n",
        "                logits = outputs.logits\n",
        "\n",
        "                # Convert logits to probabilities\n",
        "                probabilities = torch.sigmoid(logits)\n",
        "\n",
        "                # Threshold to get binary predictions\n",
        "                predictions = (probabilities >= threshold).float()\n",
        "\n",
        "                all_predictions.append(predictions.cpu())\n",
        "                all_probabilities.append(probabilities.cpu())\n",
        "\n",
        "        all_predictions = torch.cat(all_predictions, dim=0)\n",
        "        all_probabilities = torch.cat(all_probabilities, dim=0)\n",
        "\n",
        "        return all_predictions, all_probabilities"
      ],
      "metadata": {
        "id": "iF-BOvsBn4hY"
      },
      "execution_count": 16,
      "outputs": []
    },
    {
      "cell_type": "code",
      "source": [
        "# from transformers import RobertaTokenizer\n",
        "# import torch\n",
        "\n",
        "# # Initialize RoBERTa tokenizer\n",
        "# tokenizer = RobertaTokenizer.from_pretrained('roberta-base')\n",
        "\n",
        "# # Modified tokenizer function using the RoBERTa tokenizer\n",
        "# def tokenizer(text: str):\n",
        "#     \"\"\"\n",
        "#     Tokenizes text into a list of input_ids and generates the attention mask.\n",
        "\n",
        "#     Args:\n",
        "#         text (str): Input text to tokenize.\n",
        "\n",
        "#     Returns:\n",
        "#         dict: Contains 'input_ids' and 'attention_mask' for the tokenized text.\n",
        "#     \"\"\"\n",
        "#     return tokenizer(\n",
        "#         text,\n",
        "#         padding='max_length',  # Ensures all sequences have the same length\n",
        "#         truncation=True,\n",
        "#         max_length=128,         # Adjust based on input length requirements\n",
        "#         return_tensors=\"pt\"     # Returns PyTorch tensors\n",
        "#     )"
      ],
      "metadata": {
        "id": "FJlPyjbRoBFO"
      },
      "execution_count": 17,
      "outputs": []
    },
    {
      "cell_type": "code",
      "source": [
        "from transformers import RobertaTokenizer\n",
        "\n",
        "# Define collate_batch for RoBERTa-based model\n",
        "def collate_batch(batch):\n",
        "    \"\"\"\n",
        "    Prepares a batch of data by tokenizing texts and converting labels into a tensor.\n",
        "\n",
        "    Args:\n",
        "        batch (list of dict): A batch of data where each element is a dictionary with keys\n",
        "                              'labels' and 'texts'. 'labels' are the emotion labels, and\n",
        "                              'texts' are the corresponding texts.\n",
        "\n",
        "    Returns:\n",
        "        dict: A dictionary with three keys:\n",
        "              - 'input_ids': a tensor containing token IDs.\n",
        "              - 'attention_mask': a tensor that masks the padding tokens.\n",
        "              - 'labels': a tensor of the labels for each text in the batch.\n",
        "    \"\"\"\n",
        "    # Process labels and texts from batch samples\n",
        "    labels = [\n",
        "        [\n",
        "            int(sample.get('anger', 0)) if sample.get('anger', 0) != 'NONE' else 0,\n",
        "            int(sample.get('anticipation', 0)) if sample.get('anticipation', 0) != 'NONE' else 0,\n",
        "            int(sample.get('disgust', 0)) if sample.get('disgust', 0) != 'NONE' else 0,\n",
        "            int(sample.get('fear', 0)) if sample.get('fear', 0) != 'NONE' else 0,\n",
        "            int(sample.get('joy', 0)) if sample.get('joy', 0) != 'NONE' else 0,\n",
        "            int(sample.get('love', 0)) if sample.get('love', 0) != 'NONE' else 0,\n",
        "            int(sample.get('optimism', 0)) if sample.get('optimism', 0) != 'NONE' else 0,\n",
        "            int(sample.get('pessimism', 0)) if sample.get('pessimism', 0) != 'NONE' else 0,\n",
        "            int(sample.get('sadness', 0)) if sample.get('sadness', 0) != 'NONE' else 0,\n",
        "            int(sample.get('surprise', 0)) if sample.get('surprise', 0) != 'NONE' else 0,\n",
        "            int(sample.get('trust', 0)) if sample.get('trust', 0) != 'NONE' else 0,\n",
        "        ]\n",
        "        for sample in batch\n",
        "    ]\n",
        "    texts = [sample['texts'] for sample in batch]\n",
        "\n",
        "    # Tokenize texts using RoBERTa tokenizer\n",
        "    encodings = tokenizer(\n",
        "        texts,\n",
        "        padding=True,           # Pads sequences to the same length within a batch\n",
        "        truncation=True,\n",
        "        max_length=128,         # Adjust based on your task requirements\n",
        "        return_tensors=\"pt\"     # Returns PyTorch tensors\n",
        "    )\n",
        "\n",
        "    # Convert labels to a tensor\n",
        "    labels = torch.tensor(labels, dtype=torch.float32)\n",
        "\n",
        "    return {\n",
        "        'input_ids': encodings['input_ids'],\n",
        "        'attention_mask': encodings['attention_mask'],\n",
        "        'labels': labels\n",
        "    }\n",
        "\n"
      ],
      "metadata": {
        "id": "9mGfSHqNpBOA"
      },
      "execution_count": 18,
      "outputs": []
    },
    {
      "cell_type": "code",
      "source": [
        "from transformers import AutoConfig\n",
        "\n",
        "# Configure RoBERTa for multi-label classification\n",
        "my_config = AutoConfig.from_pretrained(\n",
        "    'roberta-base',\n",
        "    num_labels=11  # Number of emotion labels\n",
        ")\n",
        "\n",
        "# Define id2label and label2id mappings in the config for multi-label classification\n",
        "my_config.id2label = {i: label for i, label in enumerate(['anger', 'anticipation', 'disgust', 'fear', 'joy', 'love', 'optimism', 'pessimism', 'sadness', 'surprise', 'trust'])}\n",
        "my_config.label2id = {label: i for i, label in my_config.id2label.items()}\n"
      ],
      "metadata": {
        "id": "kmfDii1ipH-w"
      },
      "execution_count": 19,
      "outputs": []
    },
    {
      "cell_type": "code",
      "source": [
        "# Define the loss function\n",
        "loss_fn = nn.BCEWithLogitsLoss()\n",
        "\n",
        "# Define your CustomTrainer class\n",
        "class CustomTrainer(Trainer):\n",
        "    def compute_loss(self, model, inputs, return_outputs=False):\n",
        "        # Forward pass: Get logits from the model\n",
        "        outputs = model(**inputs)\n",
        "        logits = outputs.logits  # Extract logits\n",
        "\n",
        "        # Extract labels from inputs\n",
        "        labels = inputs['labels']  # Ensure labels are of shape [batch_size, num_labels]\n",
        "\n",
        "        # Calculate the loss using BCEWithLogitsLoss\n",
        "        loss = loss_fn(logits, labels)  # Use BCEWithLogitsLoss\n",
        "\n",
        "        return (loss, outputs) if return_outputs else loss"
      ],
      "metadata": {
        "id": "WpBEBTeBWAvy"
      },
      "execution_count": 20,
      "outputs": []
    },
    {
      "cell_type": "code",
      "source": [
        "from sklearn.metrics import f1_score\n",
        "\n",
        "def compute_metrics(eval_pred):\n",
        "    logits, labels = eval_pred\n",
        "    probabilities = torch.sigmoid(torch.tensor(logits))\n",
        "    # Apply thresholding at 0.5 for binary classification\n",
        "    predictions = (probabilities > 0.5).int().numpy()\n",
        "\n",
        "    # Calculate F1 macro-average score\n",
        "    f1_macro = f1_score(labels, predictions, average=\"macro\", zero_division=0)\n",
        "    return {\"f1_macro\": f1_macro}\n",
        "\n"
      ],
      "metadata": {
        "id": "QLoMDAt8qsrD"
      },
      "execution_count": 21,
      "outputs": []
    },
    {
      "cell_type": "code",
      "source": [
        "# Initialize the RoBERTa tokenizer\n",
        "tokenizer = RobertaTokenizer.from_pretrained('roberta-base')\n",
        "\n",
        "# Initialize RoBERTa model for sequence classification\n",
        "model = RobertaForSequenceClassification.from_pretrained('roberta-base', config=my_config)\n"
      ],
      "metadata": {
        "colab": {
          "base_uri": "https://localhost:8080/",
          "height": 104,
          "referenced_widgets": [
            "e2faa6a33d5845739376848ebce3ee4a",
            "14a1c6b0bef3411e9e8c7d167a269806",
            "5a399b9bc41a4bf6a682bb1476bd1f18",
            "134b0135635248cbb553a992014efdea",
            "9e0809e71009468d809574b241c1e79c",
            "e6713ba55baa43eeb34e349cf0c5899f",
            "fa9f0b9d050a4397b3a5a5d2274e7684",
            "25bad2ccda7c4190ad2852142b9d116b",
            "8150895177544272ab6fb3aab810354a",
            "98e88f75868a44f887adc28e5dc5e95f",
            "2b80bdafc3d84285b5a9ebb11db21ddf"
          ]
        },
        "id": "A5QJm9WPW1xo",
        "outputId": "d5a1c1df-4d64-4e9b-ef28-5821c0765def"
      },
      "execution_count": 22,
      "outputs": [
        {
          "output_type": "display_data",
          "data": {
            "text/plain": [
              "model.safetensors:   0%|          | 0.00/499M [00:00<?, ?B/s]"
            ],
            "application/vnd.jupyter.widget-view+json": {
              "version_major": 2,
              "version_minor": 0,
              "model_id": "e2faa6a33d5845739376848ebce3ee4a"
            }
          },
          "metadata": {}
        },
        {
          "output_type": "stream",
          "name": "stderr",
          "text": [
            "Some weights of RobertaForSequenceClassification were not initialized from the model checkpoint at roberta-base and are newly initialized: ['classifier.dense.bias', 'classifier.dense.weight', 'classifier.out_proj.bias', 'classifier.out_proj.weight']\n",
            "You should probably TRAIN this model on a down-stream task to be able to use it for predictions and inference.\n"
          ]
        }
      ]
    },
    {
      "cell_type": "code",
      "source": [
        "# Configure training parameters\n",
        "training_args = TrainingArguments(\n",
        "    # Training-specific configurations\n",
        "    num_train_epochs=20,\n",
        "    per_device_train_batch_size=64, # Number of samples per training batch\n",
        "    per_device_eval_batch_size=64, # Number of samples per validation batch\n",
        "    weight_decay=0.01, # weight decay (L2 regularization)\n",
        "    learning_rate=0.0001, # learning arte\n",
        "    optim='adamw_torch', # optimizer\n",
        "    remove_unused_columns=False, # flag to retain unused columns\n",
        "\n",
        "    # Checkpoint saving and model evaluation settings\n",
        "    output_dir=str(model_folder),  # Directory to save model checkpoints\n",
        "    evaluation_strategy='steps',  # Evaluate model at specified step intervals\n",
        "    eval_steps=50,  # Perform evaluation every 50 training steps\n",
        "    save_strategy=\"steps\",  # Save model checkpoint at specified step intervals\n",
        "    save_steps=50,  # Save a model checkpoint every 50 training steps\n",
        "    load_best_model_at_end=True,  # Reload the best model at the end of training\n",
        "    save_total_limit=2,  # Retain only the best and the most recent model checkpoints\n",
        "    # Use 'f1_macro' as the metric to determine the best model\n",
        "    metric_for_best_model=\"f1_macro\",\n",
        "    greater_is_better=True,  # A model is 'better' if its accuracy is higher\n",
        "\n",
        "\n",
        "    # Experiment logging configurations\n",
        "    logging_strategy='steps',\n",
        "    logging_steps=50,\n",
        "    report_to='wandb',  # Log metrics and results to Weights & Biases platform\n",
        "    run_name='roberta-base_trainer',  # Experiment name for Weights & Biases\n",
        ")"
      ],
      "metadata": {
        "colab": {
          "base_uri": "https://localhost:8080/"
        },
        "id": "bHHFb47BrL-s",
        "outputId": "0ecf1be0-a286-4e10-87f2-cfec5a33d224"
      },
      "execution_count": 23,
      "outputs": [
        {
          "output_type": "stream",
          "name": "stderr",
          "text": [
            "/usr/local/lib/python3.10/dist-packages/transformers/training_args.py:1559: FutureWarning: `evaluation_strategy` is deprecated and will be removed in version 4.46 of 🤗 Transformers. Use `eval_strategy` instead\n",
            "  warnings.warn(\n"
          ]
        }
      ]
    },
    {
      "cell_type": "code",
      "source": [
        "# Instantiate Trainer\n",
        "trainer = Trainer(\n",
        "    model=model,\n",
        "    args=training_args,\n",
        "    train_dataset=trainset,\n",
        "    eval_dataset=validset,\n",
        "    data_collator=collate_batch,\n",
        "    compute_metrics=compute_metrics,\n",
        ")"
      ],
      "metadata": {
        "id": "GiHx0G8ZrRKx"
      },
      "execution_count": 24,
      "outputs": []
    },
    {
      "cell_type": "code",
      "source": [
        "trainer.train()"
      ],
      "metadata": {
        "colab": {
          "base_uri": "https://localhost:8080/",
          "height": 1000
        },
        "id": "RZ4PwcjsrUL_",
        "outputId": "18f7adb3-0a6b-401d-df79-99f1cab89ac0"
      },
      "execution_count": 25,
      "outputs": [
        {
          "output_type": "display_data",
          "data": {
            "text/plain": [
              "<IPython.core.display.HTML object>"
            ],
            "text/html": [
              "\n",
              "    <div>\n",
              "      \n",
              "      <progress value='1940' max='1940' style='width:300px; height:20px; vertical-align: middle;'></progress>\n",
              "      [1940/1940 09:26, Epoch 20/20]\n",
              "    </div>\n",
              "    <table border=\"1\" class=\"dataframe\">\n",
              "  <thead>\n",
              " <tr style=\"text-align: left;\">\n",
              "      <th>Step</th>\n",
              "      <th>Training Loss</th>\n",
              "      <th>Validation Loss</th>\n",
              "      <th>F1 Macro</th>\n",
              "    </tr>\n",
              "  </thead>\n",
              "  <tbody>\n",
              "    <tr>\n",
              "      <td>50</td>\n",
              "      <td>0.471100</td>\n",
              "      <td>0.417739</td>\n",
              "      <td>0.239422</td>\n",
              "    </tr>\n",
              "    <tr>\n",
              "      <td>100</td>\n",
              "      <td>0.384700</td>\n",
              "      <td>0.361347</td>\n",
              "      <td>0.382367</td>\n",
              "    </tr>\n",
              "    <tr>\n",
              "      <td>150</td>\n",
              "      <td>0.325600</td>\n",
              "      <td>0.333894</td>\n",
              "      <td>0.430490</td>\n",
              "    </tr>\n",
              "    <tr>\n",
              "      <td>200</td>\n",
              "      <td>0.315600</td>\n",
              "      <td>0.337153</td>\n",
              "      <td>0.521438</td>\n",
              "    </tr>\n",
              "    <tr>\n",
              "      <td>250</td>\n",
              "      <td>0.282000</td>\n",
              "      <td>0.328730</td>\n",
              "      <td>0.506325</td>\n",
              "    </tr>\n",
              "    <tr>\n",
              "      <td>300</td>\n",
              "      <td>0.268800</td>\n",
              "      <td>0.320269</td>\n",
              "      <td>0.549114</td>\n",
              "    </tr>\n",
              "    <tr>\n",
              "      <td>350</td>\n",
              "      <td>0.244300</td>\n",
              "      <td>0.320197</td>\n",
              "      <td>0.530684</td>\n",
              "    </tr>\n",
              "    <tr>\n",
              "      <td>400</td>\n",
              "      <td>0.238900</td>\n",
              "      <td>0.324773</td>\n",
              "      <td>0.563541</td>\n",
              "    </tr>\n",
              "    <tr>\n",
              "      <td>450</td>\n",
              "      <td>0.214000</td>\n",
              "      <td>0.324933</td>\n",
              "      <td>0.535137</td>\n",
              "    </tr>\n",
              "    <tr>\n",
              "      <td>500</td>\n",
              "      <td>0.207500</td>\n",
              "      <td>0.348575</td>\n",
              "      <td>0.565672</td>\n",
              "    </tr>\n",
              "    <tr>\n",
              "      <td>550</td>\n",
              "      <td>0.192000</td>\n",
              "      <td>0.343604</td>\n",
              "      <td>0.552787</td>\n",
              "    </tr>\n",
              "    <tr>\n",
              "      <td>600</td>\n",
              "      <td>0.182400</td>\n",
              "      <td>0.351625</td>\n",
              "      <td>0.558153</td>\n",
              "    </tr>\n",
              "    <tr>\n",
              "      <td>650</td>\n",
              "      <td>0.165300</td>\n",
              "      <td>0.356759</td>\n",
              "      <td>0.557837</td>\n",
              "    </tr>\n",
              "    <tr>\n",
              "      <td>700</td>\n",
              "      <td>0.155000</td>\n",
              "      <td>0.368842</td>\n",
              "      <td>0.569203</td>\n",
              "    </tr>\n",
              "    <tr>\n",
              "      <td>750</td>\n",
              "      <td>0.145600</td>\n",
              "      <td>0.383821</td>\n",
              "      <td>0.562115</td>\n",
              "    </tr>\n",
              "    <tr>\n",
              "      <td>800</td>\n",
              "      <td>0.135200</td>\n",
              "      <td>0.393356</td>\n",
              "      <td>0.569042</td>\n",
              "    </tr>\n",
              "    <tr>\n",
              "      <td>850</td>\n",
              "      <td>0.121000</td>\n",
              "      <td>0.407211</td>\n",
              "      <td>0.575889</td>\n",
              "    </tr>\n",
              "    <tr>\n",
              "      <td>900</td>\n",
              "      <td>0.113000</td>\n",
              "      <td>0.403830</td>\n",
              "      <td>0.570577</td>\n",
              "    </tr>\n",
              "    <tr>\n",
              "      <td>950</td>\n",
              "      <td>0.104800</td>\n",
              "      <td>0.410490</td>\n",
              "      <td>0.569703</td>\n",
              "    </tr>\n",
              "    <tr>\n",
              "      <td>1000</td>\n",
              "      <td>0.095200</td>\n",
              "      <td>0.421498</td>\n",
              "      <td>0.579344</td>\n",
              "    </tr>\n",
              "    <tr>\n",
              "      <td>1050</td>\n",
              "      <td>0.087400</td>\n",
              "      <td>0.430320</td>\n",
              "      <td>0.570178</td>\n",
              "    </tr>\n",
              "    <tr>\n",
              "      <td>1100</td>\n",
              "      <td>0.078600</td>\n",
              "      <td>0.438799</td>\n",
              "      <td>0.561817</td>\n",
              "    </tr>\n",
              "    <tr>\n",
              "      <td>1150</td>\n",
              "      <td>0.073800</td>\n",
              "      <td>0.460257</td>\n",
              "      <td>0.563383</td>\n",
              "    </tr>\n",
              "    <tr>\n",
              "      <td>1200</td>\n",
              "      <td>0.066600</td>\n",
              "      <td>0.463833</td>\n",
              "      <td>0.568192</td>\n",
              "    </tr>\n",
              "    <tr>\n",
              "      <td>1250</td>\n",
              "      <td>0.062700</td>\n",
              "      <td>0.467229</td>\n",
              "      <td>0.561686</td>\n",
              "    </tr>\n",
              "    <tr>\n",
              "      <td>1300</td>\n",
              "      <td>0.052100</td>\n",
              "      <td>0.481635</td>\n",
              "      <td>0.562036</td>\n",
              "    </tr>\n",
              "    <tr>\n",
              "      <td>1350</td>\n",
              "      <td>0.052800</td>\n",
              "      <td>0.492521</td>\n",
              "      <td>0.571181</td>\n",
              "    </tr>\n",
              "    <tr>\n",
              "      <td>1400</td>\n",
              "      <td>0.045400</td>\n",
              "      <td>0.493579</td>\n",
              "      <td>0.574609</td>\n",
              "    </tr>\n",
              "    <tr>\n",
              "      <td>1450</td>\n",
              "      <td>0.043100</td>\n",
              "      <td>0.506609</td>\n",
              "      <td>0.573574</td>\n",
              "    </tr>\n",
              "    <tr>\n",
              "      <td>1500</td>\n",
              "      <td>0.037600</td>\n",
              "      <td>0.505063</td>\n",
              "      <td>0.554404</td>\n",
              "    </tr>\n",
              "    <tr>\n",
              "      <td>1550</td>\n",
              "      <td>0.037800</td>\n",
              "      <td>0.513953</td>\n",
              "      <td>0.568007</td>\n",
              "    </tr>\n",
              "    <tr>\n",
              "      <td>1600</td>\n",
              "      <td>0.030900</td>\n",
              "      <td>0.520216</td>\n",
              "      <td>0.568940</td>\n",
              "    </tr>\n",
              "    <tr>\n",
              "      <td>1650</td>\n",
              "      <td>0.032500</td>\n",
              "      <td>0.522682</td>\n",
              "      <td>0.566125</td>\n",
              "    </tr>\n",
              "    <tr>\n",
              "      <td>1700</td>\n",
              "      <td>0.026100</td>\n",
              "      <td>0.528592</td>\n",
              "      <td>0.567132</td>\n",
              "    </tr>\n",
              "    <tr>\n",
              "      <td>1750</td>\n",
              "      <td>0.027100</td>\n",
              "      <td>0.531554</td>\n",
              "      <td>0.570825</td>\n",
              "    </tr>\n",
              "    <tr>\n",
              "      <td>1800</td>\n",
              "      <td>0.023400</td>\n",
              "      <td>0.527275</td>\n",
              "      <td>0.567993</td>\n",
              "    </tr>\n",
              "    <tr>\n",
              "      <td>1850</td>\n",
              "      <td>0.023000</td>\n",
              "      <td>0.532273</td>\n",
              "      <td>0.565384</td>\n",
              "    </tr>\n",
              "    <tr>\n",
              "      <td>1900</td>\n",
              "      <td>0.020600</td>\n",
              "      <td>0.533877</td>\n",
              "      <td>0.568375</td>\n",
              "    </tr>\n",
              "  </tbody>\n",
              "</table><p>"
            ]
          },
          "metadata": {}
        },
        {
          "output_type": "execute_result",
          "data": {
            "text/plain": [
              "TrainOutput(global_step=1940, training_loss=0.13405368435628634, metrics={'train_runtime': 567.9532, 'train_samples_per_second': 217.588, 'train_steps_per_second': 3.416, 'total_flos': 3382675397973738.0, 'train_loss': 0.13405368435628634, 'epoch': 20.0})"
            ]
          },
          "metadata": {},
          "execution_count": 25
        }
      ]
    },
    {
      "cell_type": "code",
      "source": [
        "trainer.evaluate()"
      ],
      "metadata": {
        "colab": {
          "base_uri": "https://localhost:8080/",
          "height": 141
        },
        "id": "G5Y9Q7GBuwqf",
        "outputId": "e4871c64-46c0-4295-934e-ecbdc113cbe9"
      },
      "execution_count": 26,
      "outputs": [
        {
          "output_type": "display_data",
          "data": {
            "text/plain": [
              "<IPython.core.display.HTML object>"
            ],
            "text/html": [
              "\n",
              "    <div>\n",
              "      \n",
              "      <progress value='25' max='25' style='width:300px; height:20px; vertical-align: middle;'></progress>\n",
              "      [25/25 00:01]\n",
              "    </div>\n",
              "    "
            ]
          },
          "metadata": {}
        },
        {
          "output_type": "execute_result",
          "data": {
            "text/plain": [
              "{'eval_loss': 0.42149752378463745,\n",
              " 'eval_f1_macro': 0.5793444459749096,\n",
              " 'eval_runtime': 1.3886,\n",
              " 'eval_samples_per_second': 1112.616,\n",
              " 'eval_steps_per_second': 18.004,\n",
              " 'epoch': 20.0}"
            ]
          },
          "metadata": {},
          "execution_count": 26
        }
      ]
    },
    {
      "cell_type": "code",
      "source": [
        "valid_output = trainer.predict(validset)\n",
        "valid_output._fields"
      ],
      "metadata": {
        "colab": {
          "base_uri": "https://localhost:8080/",
          "height": 34
        },
        "id": "1193V_u2O23u",
        "outputId": "e49764b2-18d2-4db1-fd8d-4da1f336e1e9"
      },
      "execution_count": 27,
      "outputs": [
        {
          "output_type": "display_data",
          "data": {
            "text/plain": [
              "<IPython.core.display.HTML object>"
            ],
            "text/html": []
          },
          "metadata": {}
        },
        {
          "output_type": "execute_result",
          "data": {
            "text/plain": [
              "('predictions', 'label_ids', 'metrics')"
            ]
          },
          "metadata": {},
          "execution_count": 27
        }
      ]
    },
    {
      "cell_type": "code",
      "source": [
        "# Assuming valid_output.predictions contains the raw logits\n",
        "valid_preds = (torch.sigmoid(torch.tensor(valid_output.predictions)) > 0.5).int().numpy()\n",
        "valid_labels = np.array(valid_output.label_ids)\n"
      ],
      "metadata": {
        "id": "Bh2NuTBj4AeC"
      },
      "execution_count": 28,
      "outputs": []
    },
    {
      "cell_type": "code",
      "source": [
        "import numpy as np\n",
        "import matplotlib.pyplot as plt\n",
        "import seaborn as sns\n",
        "from sklearn.metrics import confusion_matrix\n",
        "\n",
        "# Convert valid_output to numpy arrays\n",
        "valid_labels_np = np.array(valid_output.label_ids)  # Shape: (n_samples, n_classes)\n",
        "valid_preds_np = np.array(valid_output.predictions)  # Shape: (n_samples, n_classes)\n",
        "\n",
        "# Convert probabilities to binary predictions\n",
        "threshold = 0.5\n",
        "valid_preds_np = (valid_preds_np > threshold).astype(int)  # Shape: (n_samples, n_classes)\n",
        "\n",
        "def plot_multilabel_confusion_matrix(valid_labels, valid_preds, class_labels):\n",
        "    \"\"\"\n",
        "    Plots confusion matrices for each class in multilabel classification.\n",
        "\n",
        "    Args:\n",
        "        valid_labels (array-like): True labels of the validation data (shape: [n_samples, n_classes]).\n",
        "        valid_preds (array-like): Predicted labels of the validation data (shape: [n_samples, n_classes]).\n",
        "        class_labels (list): List of class names for the labels.\n",
        "    \"\"\"\n",
        "    n_classes = len(class_labels)\n",
        "\n",
        "    # Create a figure to hold all the subplots\n",
        "    fig, axes = plt.subplots(nrows=(n_classes + 1) // 2, ncols=2, figsize=(12, n_classes * 2))\n",
        "    axes = axes.flatten()  # Flatten the axes array for easy iteration\n",
        "\n",
        "    for i in range(n_classes):\n",
        "        # Compute the confusion matrix for each class\n",
        "        cm = confusion_matrix(valid_labels[:, i], valid_preds[:, i], normalize='true')\n",
        "\n",
        "        # Plot the confusion matrix using Seaborn\n",
        "        ax = axes[i]\n",
        "        sns.heatmap(cm, annot=True, fmt=\".2f\", cmap=\"Reds\", ax=ax,\n",
        "                    xticklabels=[\"0\", \"1\"], yticklabels=[\"0\", \"1\"])\n",
        "\n",
        "        ax.set_title(f'Confusion Matrix for {class_labels[i]}')\n",
        "        ax.set_xlabel('Predicted Labels')\n",
        "        ax.set_ylabel('True Labels')\n",
        "\n",
        "    # Remove any empty subplots\n",
        "    for j in range(n_classes, len(axes)):\n",
        "        fig.delaxes(axes[j])\n",
        "\n",
        "    plt.tight_layout()  # Adjust layout\n",
        "    plt.show()\n",
        "\n",
        "# Call the function with the converted multilabel data\n",
        "plot_multilabel_confusion_matrix(valid_labels_np, valid_preds_np, class_labels=list(my_config.id2label.values()))\n"
      ],
      "metadata": {
        "colab": {
          "base_uri": "https://localhost:8080/",
          "height": 1000
        },
        "id": "MlmgZkP43pSq",
        "outputId": "01cb093f-ce83-4da8-8b75-66b6fc656845"
      },
      "execution_count": 29,
      "outputs": [
        {
          "output_type": "display_data",
          "data": {
            "text/plain": [
              "<Figure size 1200x2200 with 22 Axes>"
            ],
            "image/png": "[encoded data removed]"
          },
          "metadata": {}
        }
      ]
    },
    {
      "cell_type": "code",
      "source": [
        "import wandb\n",
        "\n",
        "# Assuming valid_labels and valid_preds are already defined as 2D arrays\n",
        "class_names = ['anger', 'anticipation', 'disgust', 'fear', 'joy', 'love', 'optimism', 'pessimism', 'sadness', 'surprise', 'trust']\n",
        "\n",
        "# Loop through each label and log its confusion matrix separately\n",
        "for i, class_name in enumerate(class_names):\n",
        "    # Extract predictions and true labels for the current label\n",
        "    class_preds = valid_preds[:, i]\n",
        "    class_true = valid_labels[:, i]\n",
        "\n",
        "    # Log confusion matrix to Wandb for the current class\n",
        "    wandb.log({\n",
        "        f\"conf_matrix_{class_name}\": wandb.plot.confusion_matrix(\n",
        "            preds=class_preds,\n",
        "            y_true=class_true,\n",
        "            class_names=[\"0\", \"1\"]\n",
        "        )\n",
        "    })\n"
      ],
      "metadata": {
        "id": "-LI1u3Va7Pkx"
      },
      "execution_count": 30,
      "outputs": []
    },
    {
      "cell_type": "code",
      "source": [
        "# Retrieve the best model checkpoint\n",
        "best_model_checkpoint = trainer.state.best_model_checkpoint\n",
        "\n",
        "# Check if a best checkpoint was found\n",
        "if best_model_checkpoint is not None:\n",
        "    best_model_checkpoint_step = best_model_checkpoint.split('-')[-1]\n",
        "    print(f\"The best model was saved at step {best_model_checkpoint_step}.\")\n",
        "else:\n",
        "    print(\"No best model checkpoint found.\")\n"
      ],
      "metadata": {
        "colab": {
          "base_uri": "https://localhost:8080/"
        },
        "id": "S0yd25x08jmC",
        "outputId": "e57216d0-be5d-49b5-9549-570dc195e2e2"
      },
      "execution_count": 31,
      "outputs": [
        {
          "output_type": "stream",
          "name": "stdout",
          "text": [
            "The best model was saved at step 1000.\n"
          ]
        }
      ]
    },
    {
      "cell_type": "code",
      "source": [
        "wandb.finish"
      ],
      "metadata": {
        "colab": {
          "base_uri": "https://localhost:8080/",
          "height": 185
        },
        "id": "TZwbxrKX8kaW",
        "outputId": "f34ac993-056e-4843-c266-7d31fdb2ef24"
      },
      "execution_count": 32,
      "outputs": [
        {
          "output_type": "execute_result",
          "data": {
            "text/plain": [
              "<function wandb.sdk.wandb_run.finish(exit_code: 'int | None' = None, quiet: 'bool | None' = None) -> 'None'>"
            ],
            "text/html": [
              "<div style=\"max-width:800px; border: 1px solid var(--colab-border-color);\"><style>\n",
              "      pre.function-repr-contents {\n",
              "        overflow-x: auto;\n",
              "        padding: 8px 12px;\n",
              "        max-height: 500px;\n",
              "      }\n",
              "\n",
              "      pre.function-repr-contents.function-repr-contents-collapsed {\n",
              "        cursor: pointer;\n",
              "        max-height: 100px;\n",
              "      }\n",
              "    </style>\n",
              "    <pre style=\"white-space: initial; background:\n",
              "         var(--colab-secondary-surface-color); padding: 8px 12px;\n",
              "         border-bottom: 1px solid var(--colab-border-color);\"><b>wandb.sdk.wandb_run.finish</b><br/>def finish(exit_code: int | None=None, quiet: bool | None=None) -&gt; None</pre><pre class=\"function-repr-contents function-repr-contents-collapsed\" style=\"\"><a class=\"filepath\" style=\"display:none\" href=\"#\">/usr/local/lib/python3.10/dist-packages/wandb/sdk/wandb_run.py</a>Mark a run as finished, and finish uploading all data.\n",
              "\n",
              "This is used when creating multiple runs in the same process.\n",
              "We automatically call this method when your script exits.\n",
              "\n",
              "Arguments:\n",
              "    exit_code: Set to something other than 0 to mark a run as failed\n",
              "    quiet: Set to true to minimize log output</pre>\n",
              "      <script>\n",
              "      if (google.colab.kernel.accessAllowed && google.colab.files && google.colab.files.view) {\n",
              "        for (const element of document.querySelectorAll('.filepath')) {\n",
              "          element.style.display = 'block'\n",
              "          element.onclick = (event) => {\n",
              "            event.preventDefault();\n",
              "            event.stopPropagation();\n",
              "            google.colab.files.view(element.textContent, 4158);\n",
              "          };\n",
              "        }\n",
              "      }\n",
              "      for (const element of document.querySelectorAll('.function-repr-contents')) {\n",
              "        element.onclick = (event) => {\n",
              "          event.preventDefault();\n",
              "          event.stopPropagation();\n",
              "          element.classList.toggle('function-repr-contents-collapsed');\n",
              "        };\n",
              "      }\n",
              "      </script>\n",
              "      </div>"
            ]
          },
          "metadata": {},
          "execution_count": 32
        }
      ]
    },
    {
      "cell_type": "code",
      "source": [
        "# Make predictions on the test set\n",
        "predictions = trainer.predict(testset)\n",
        "predictions._fields"
      ],
      "metadata": {
        "colab": {
          "base_uri": "https://localhost:8080/",
          "height": 34
        },
        "id": "HV03Lvtp38Pt",
        "outputId": "ae406f0f-2c7f-4160-eb50-d49119a8b2fe"
      },
      "execution_count": 33,
      "outputs": [
        {
          "output_type": "display_data",
          "data": {
            "text/plain": [
              "<IPython.core.display.HTML object>"
            ],
            "text/html": []
          },
          "metadata": {}
        },
        {
          "output_type": "execute_result",
          "data": {
            "text/plain": [
              "('predictions', 'label_ids', 'metrics')"
            ]
          },
          "metadata": {},
          "execution_count": 33
        }
      ]
    },
    {
      "cell_type": "code",
      "source": [
        "# Extract the predicted logits\n",
        "pred_logits = predictions.predictions\n",
        "\n",
        "# Apply sigmoid to the logits to convert them into probabilities\n",
        "pred_probs = torch.sigmoid(torch.tensor(pred_logits))\n",
        "\n",
        "# Convert probabilities into binary labels (threshold at 0.5)\n",
        "pred_labels = (pred_probs > 0.5).int().numpy()  # Convert to numpy array with 0s and 1s"
      ],
      "metadata": {
        "id": "7LOoKgAm4zDB"
      },
      "execution_count": 34,
      "outputs": []
    },
    {
      "cell_type": "code",
      "source": [
        "pred_labels"
      ],
      "metadata": {
        "colab": {
          "base_uri": "https://localhost:8080/"
        },
        "id": "L7jaSXuX41nf",
        "outputId": "8f299111-94e1-4345-eda8-56de8ed1ddd7"
      },
      "execution_count": 35,
      "outputs": [
        {
          "output_type": "execute_result",
          "data": {
            "text/plain": [
              "array([[1, 0, 1, ..., 0, 0, 0],\n",
              "       [0, 0, 1, ..., 0, 0, 0],\n",
              "       [1, 0, 1, ..., 1, 0, 0],\n",
              "       ...,\n",
              "       [1, 0, 1, ..., 0, 0, 0],\n",
              "       [0, 0, 0, ..., 0, 0, 0],\n",
              "       [1, 0, 1, ..., 0, 0, 0]], dtype=int32)"
            ]
          },
          "metadata": {},
          "execution_count": 35
        }
      ]
    },
    {
      "cell_type": "code",
      "source": [
        "# Assuming valid_output.predictions contains the raw logits\n",
        "test_preds = (torch.sigmoid(torch.tensor(predictions.predictions)) > 0.5).int().numpy()\n",
        "test_labels = np.array(predictions.label_ids)\n"
      ],
      "metadata": {
        "id": "clgvHEAR500P"
      },
      "execution_count": 36,
      "outputs": []
    },
    {
      "cell_type": "code",
      "source": [
        "import numpy as np\n",
        "import matplotlib.pyplot as plt\n",
        "import seaborn as sns\n",
        "from sklearn.metrics import confusion_matrix\n",
        "\n",
        "# Convert valid_output to numpy arrays\n",
        "test_labels_np = np.array(predictions.label_ids)  # Shape: (n_samples, n_classes)\n",
        "test_preds_np = np.array(predictions.predictions)  # Shape: (n_samples, n_classes)\n",
        "\n",
        "# Convert probabilities to binary predictions\n",
        "threshold = 0.5\n",
        "test_preds_np = (test_preds_np > threshold).astype(int)  # Shape: (n_samples, n_classes)\n",
        "\n",
        "def plot_multilabel_confusion_matrix(test_labels, test_preds, class_labels):\n",
        "    \"\"\"\n",
        "    Plots confusion matrices for each class in multilabel classification.\n",
        "\n",
        "    Args:\n",
        "        valid_labels (array-like): True labels of the validation data (shape: [n_samples, n_classes]).\n",
        "        valid_preds (array-like): Predicted labels of the validation data (shape: [n_samples, n_classes]).\n",
        "        class_labels (list): List of class names for the labels.\n",
        "    \"\"\"\n",
        "    n_classes = len(class_labels)\n",
        "\n",
        "    # Create a figure to hold all the subplots\n",
        "    fig, axes = plt.subplots(nrows=(n_classes + 1) // 2, ncols=2, figsize=(12, n_classes * 2))\n",
        "    axes = axes.flatten()  # Flatten the axes array for easy iteration\n",
        "\n",
        "    for i in range(n_classes):\n",
        "        # Compute the confusion matrix for each class\n",
        "        cm = confusion_matrix(test_labels[:, i], test_preds[:, i], normalize='true')\n",
        "\n",
        "        # Plot the confusion matrix using Seaborn\n",
        "        ax = axes[i]\n",
        "        sns.heatmap(cm, annot=True, fmt=\".2f\", cmap=\"Reds\", ax=ax,\n",
        "                    xticklabels=[\"0\", \"1\"], yticklabels=[\"0\", \"1\"])\n",
        "\n",
        "        ax.set_title(f'Confusion Matrix for {class_labels[i]}')\n",
        "        ax.set_xlabel('Predicted Labels')\n",
        "        ax.set_ylabel('True Labels')\n",
        "\n",
        "    # Remove any empty subplots\n",
        "    for j in range(n_classes, len(axes)):\n",
        "        fig.delaxes(axes[j])\n",
        "\n",
        "    plt.tight_layout()  # Adjust layout\n",
        "    plt.show()\n",
        "\n",
        "# Call the function with the converted multilabel data\n",
        "plot_multilabel_confusion_matrix(test_labels_np, test_preds_np, class_labels=list(my_config.id2label.values()))\n"
      ],
      "metadata": {
        "colab": {
          "base_uri": "https://localhost:8080/",
          "height": 1000
        },
        "id": "9sQy8LKx43mU",
        "outputId": "47aceb2c-2dde-4126-e9a2-68de0929706d"
      },
      "execution_count": 37,
      "outputs": [
        {
          "output_type": "display_data",
          "data": {
            "text/plain": [
              "<Figure size 1200x2200 with 22 Axes>"
            ],
            "image/png": "[encoded data removed]"
          },
          "metadata": {}
        }
      ]
    },
    {
      "cell_type": "code",
      "source": [],
      "metadata": {
        "id": "fnB5lYir5ptp"
      },
      "execution_count": 37,
      "outputs": []
    }
  ]
}